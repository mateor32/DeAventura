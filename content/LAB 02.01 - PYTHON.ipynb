{
  "cells": [
    {
      "cell_type": "markdown",
      "metadata": {
        "id": "mVU5CP3Z0v-R"
      },
      "source": [
        "# LAB 02.01 - Python"
      ]
    },
    {
      "cell_type": "code",
      "execution_count": 1,
      "metadata": {
        "id": "16syFlwc0v-W",
        "outputId": "6cf5c7b7-3abc-4ead-ea82-2a2132645dfd",
        "colab": {
          "base_uri": "https://localhost:8080/",
          "height": 75
        }
      },
      "outputs": [
        {
          "output_type": "display_data",
          "data": {
            "text/plain": [
              "<IPython.core.display.HTML object>"
            ],
            "text/html": [
              "\n",
              "<meta name=\"google-signin-client_id\"\n",
              "      content=\"461673936472-kdjosv61up3ac1ajeuq6qqu72upilmls.apps.googleusercontent.com\"/>\n",
              "<script src=\"https://apis.google.com/js/client:platform.js?onload=google_button_start\"></script>\n",
              "    "
            ]
          },
          "metadata": {}
        },
        {
          "output_type": "stream",
          "name": "stdout",
          "text": [
            "replicating local resources\n"
          ]
        },
        {
          "output_type": "execute_result",
          "data": {
            "text/plain": [
              "<IPython.core.display.HTML object>"
            ],
            "text/html": [
              "<h3>See <a href='https://m5knaekxo6.execute-api.us-west-2.amazonaws.com/dev-v0001/rlxmooc/web/login' target='_blank'>my courses and progress</a></h2>"
            ]
          },
          "metadata": {},
          "execution_count": 1
        }
      ],
      "source": [
        "!wget --no-cache -O init.py -q https://raw.githubusercontent.com/rramosp/ai4eng.v1/main/content/init.py\n",
        "import init; init.init(force_download=False); init.get_weblink()\n"
      ]
    },
    {
      "cell_type": "code",
      "execution_count": 2,
      "metadata": {
        "id": "nA2td4bX0v-Y",
        "outputId": "43a40921-175a-44f8-ba98-f4d42ad22f7f",
        "colab": {
          "base_uri": "https://localhost:8080/",
          "height": 213,
          "referenced_widgets": [
            "6747a7177a78492fa48453bbf57def39",
            "91f837e81e2940efb00a4fb89eb21155",
            "b08beff53cb24066b35ad202d5c16f67",
            "4fbc0564e3b747e8b5932b44363b778c",
            "37eb53f226ac41b9a8aeffec96393a47",
            "7e98e63d2e3f4f74bfcc3731d30ad9cc",
            "9a787137eb2c4405abbacfade999aead",
            "167687db65304037a4f3a045f67d7b8c",
            "7ccef82d3af24de9a2f7c74d72468500",
            "b3d9debeb0204cc7b8c79a192aed0b0c",
            "fafab820f7154453a8b128dcadb696dd",
            "f3c46fd97ad64a13a689c6ba868365d2",
            "a448a5c58993444daa1e5aaed5faca05",
            "f8730865a22a4729b67e64b57127154a",
            "55e2d17342f0455a8f0feb1584c437e6",
            "ea9901ca0eb8413897a5bedc65f1a29f",
            "f065b464abf2488aa2c698980fa8740a",
            "0ced3f3934fb4806b12a3b57b63c9d45",
            "5dbfb0e961be4a90bdd617b742155826"
          ]
        }
      },
      "outputs": [
        {
          "output_type": "stream",
          "name": "stdout",
          "text": [
            "logging in as mateo.reyesu@udea.edu.co... please wait\n",
            "\n",
            "-------------\n",
            "using course session ai4eng.v1.udea.r3::2025.2\n",
            "success!! you are logged in\n",
            "-------------\n"
          ]
        }
      ],
      "source": [
        "from local.lib.rlxmoocapi import submit, session\n",
        "session.LoginSequence(endpoint=init.endpoint, course_id=init.course_id, lab_id=\"L02.01\", varname=\"student\");"
      ]
    },
    {
      "cell_type": "code",
      "execution_count": null,
      "metadata": {
        "id": "fVFmgMuY0v-Z"
      },
      "outputs": [],
      "source": []
    },
    {
      "cell_type": "code",
      "execution_count": 3,
      "metadata": {
        "id": "zxCT4cYK0v-a"
      },
      "outputs": [],
      "source": [
        "import numpy as np"
      ]
    },
    {
      "cell_type": "markdown",
      "metadata": {
        "id": "uFWN_YEW0v-a"
      },
      "source": [
        "## Task 1: Palindrome\n",
        "\n",
        "Determine whether an integer number $n$ is a palindrome, this is, if it is the same number when read left to right and when read right to left. Return `True` if so, otherwise return `False`.\n",
        "\n",
        "**Execution example**\n",
        "\n",
        "```python\n",
        ">>> palindromo(n=3456543)\n",
        "True\n",
        "\n",
        ">>> palindromo(n=543)\n",
        "False\n",
        "```\n",
        "\n",
        "**hint**: transform it into string, reverse it and check equality\n",
        "\n",
        "**challenge**: use one single line of code"
      ]
    },
    {
      "cell_type": "code",
      "execution_count": 4,
      "metadata": {
        "id": "_dV5ecej0v-b"
      },
      "outputs": [],
      "source": [
        "def palindromo(n): # assume n is an integer\n",
        "\n",
        "    # your code here\n",
        "    r = str(n) == str(n)[::-1]\n",
        "    return r # r must be boolean True/False"
      ]
    },
    {
      "cell_type": "markdown",
      "metadata": {
        "id": "11fF8FVw0v-b"
      },
      "source": [
        "check your code manually"
      ]
    },
    {
      "cell_type": "code",
      "execution_count": 5,
      "metadata": {
        "id": "RXD2jnrb0v-d",
        "outputId": "bb5ed8df-00ac-45dd-ef8b-929786b915a8",
        "colab": {
          "base_uri": "https://localhost:8080/"
        }
      },
      "outputs": [
        {
          "output_type": "stream",
          "name": "stdout",
          "text": [
            "True\n",
            "False\n"
          ]
        }
      ],
      "source": [
        "print (palindromo(12321))\n",
        "print (palindromo(12322))"
      ]
    },
    {
      "cell_type": "markdown",
      "metadata": {
        "id": "M2Cig03r0v-e"
      },
      "source": [
        "**submit your code**"
      ]
    },
    {
      "cell_type": "code",
      "execution_count": 6,
      "metadata": {
        "scrolled": true,
        "id": "Hfz4qfdI0v-f",
        "outputId": "9ad8f676-546a-4de7-9b8e-fc27aff1a2e9",
        "colab": {
          "base_uri": "https://localhost:8080/",
          "height": 128
        }
      },
      "outputs": [
        {
          "output_type": "display_data",
          "data": {
            "text/plain": [
              "<IPython.core.display.HTML object>"
            ],
            "text/html": [
              "\n",
              "                    <b>task_01 submitted.</b> <b><font color=\"blue\">your grade is 5</font></b> \n",
              "                    <p/><pre>----- grader message -------</pre>testing with 100 random calls<br/><b>correct</b><pre>----------------------------</pre>\n",
              "                    <p/><p/>\n",
              "                    <div style=\"font-size:10px\"><b>SUBMISSION CODE</b> UM3AGw5bkCD/Cb5TKAO+rvdQ6PhRSKRPU3VN3OeM3TxujxnquA+rdNZMHHX9ZuJQ+qRfmVFDB3c9LBbnMqdEAgVjIZ7ctDPHxgUqabnBQ5fZ+crwX1010j/tqYsZagq0UH6uAuORjkIsamYUuXyBe7uHVxYKoeA/+ljNGFsHczk=</div>\n",
              "                    "
            ]
          },
          "metadata": {}
        }
      ],
      "source": [
        "student.submit_task(globals(), task_id=\"task_01\");"
      ]
    },
    {
      "cell_type": "markdown",
      "metadata": {
        "id": "7a78t6tk0v-h"
      },
      "source": [
        "## Task 2: Money Change\n",
        "\n",
        "En este ejercicio, su programa recibirá un monto entre 1 y 99 centavos de Dolar, Escriba un metodo que retorne en una lista, cuantas monedas son necesarias para devolverle a alguien dicho valor, si únicamente se cuenta con monedas de 1, 10 y 25 centavos. La lista debe entregarse de la siguiente manera:\n",
        "\n",
        "In this task your function will receive an amount between 1 and 99 cents and will have to return a list with three numbers [$n_1$, $n_{10}$, $n_{25}$], specifying how many coins of 1, 10 and 25 cents are required to obtain the given amonut. We only have coints of 1, 10 and 25 cents. There are no other kinds of coins.\n",
        "\n",
        "If the amount given is less than 1 or more than 99 you must return `None`.\n",
        "\n",
        "**Execution example**\n",
        "\n",
        "```python\n",
        ">>> change_money(n=55)\n",
        "[5,0,2]\n",
        "\n",
        ">>> change_money(n=200)\n",
        "None\n",
        "\n",
        ">>> change_money(n=47)\n",
        "[2,2,1]\n",
        "```\n",
        "\n",
        "**hint**: use `\\\\` for integer division\n"
      ]
    },
    {
      "cell_type": "code",
      "execution_count": 7,
      "metadata": {
        "id": "zrrOppx70v-i"
      },
      "outputs": [],
      "source": [
        "\n",
        "\n",
        "def change_money(n):\n",
        "    r=[0,0,0] #recall: r[0]== n_1, r[1]== n_10 y r[2]== n_25\n",
        "    #if n>99 or n<1: use return None\n",
        "\n",
        "    ## tu codigo aquí\n",
        "    if n>99 or n<1:\n",
        "        return None\n",
        "    r[2] = n // 25\n",
        "    n = n % 25\n",
        "    r[1] = n // 10\n",
        "    n = n % 10\n",
        "    r[0] = n // 1\n",
        "    return r"
      ]
    },
    {
      "cell_type": "markdown",
      "metadata": {
        "id": "EZIAxoNL0v-j"
      },
      "source": [
        "**submit your code**"
      ]
    },
    {
      "cell_type": "code",
      "execution_count": 8,
      "metadata": {
        "scrolled": true,
        "id": "PeXnUNvC0v-k",
        "outputId": "9336c411-4fc5-4ed9-ce05-7ddfb58bbd1d",
        "colab": {
          "base_uri": "https://localhost:8080/",
          "height": 128
        }
      },
      "outputs": [
        {
          "output_type": "display_data",
          "data": {
            "text/plain": [
              "<IPython.core.display.HTML object>"
            ],
            "text/html": [
              "\n",
              "                    <b>task_02 submitted.</b> <b><font color=\"blue\">your grade is 5</font></b> \n",
              "                    <p/><pre>----- grader message -------</pre>testing with 100 random calls<br/><b>correct</b><pre>----------------------------</pre>\n",
              "                    <p/><p/>\n",
              "                    <div style=\"font-size:10px\"><b>SUBMISSION CODE</b> XknlNqV8kuSEvQCO+SJp8kVtEXW3gogTupN5byVnIgts2nrnGPKPh4gqmX+jp6vN0AeSW6xwcubIWhjcTd543GmBI75wwCCNE1/PTXpKA+pKwKILyyJcAVvR7ee7kJ2ZxUMkZ8l+El0M/udzlUIFV7WgY334qOk0QBO25C/Z/ts=</div>\n",
              "                    "
            ]
          },
          "metadata": {}
        }
      ],
      "source": [
        "student.submit_task(globals(), task_id=\"task_02\");\n"
      ]
    },
    {
      "cell_type": "markdown",
      "metadata": {
        "id": "2PYkwqqS0v-k"
      },
      "source": [
        "## Task 3: Fibonacci\n",
        "\n",
        "Complete the function below so that given an integer $n$ it computes the $n^{th}$ term of the Fibonacci series:\n",
        "\n",
        "$$ f_n = f_{n-1}+f_{n-2}$$\n",
        "\n",
        "Where $$f_0=0 \\:\\:\\text{ y }\\:\\:f_1=1 $$ so that: $$f_2=1+0=1$$ $$f_3=1+1=2$$ $$f_4=2+1=3$$ and so on\n",
        "\n",
        "### Execution example\n",
        "```python\n",
        "\n",
        ">>> fibonacci(10)\n",
        "55\n",
        "\n",
        ">>> fibonacci(36)\n",
        "14930352\n",
        "```"
      ]
    },
    {
      "cell_type": "code",
      "execution_count": 9,
      "metadata": {
        "id": "EwvBn8Ov0v-k"
      },
      "outputs": [],
      "source": [
        "def fibonacci(n):\n",
        "    f_1=1\n",
        "    f_2=1\n",
        "    suma=0\n",
        "\n",
        "    # tu codigo aqui\n",
        "    for i in range(n-2):\n",
        "        suma = f_1 + f_2\n",
        "        f_1 = f_2\n",
        "        f_2 = suma\n",
        "\n",
        "    return suma"
      ]
    },
    {
      "cell_type": "markdown",
      "metadata": {
        "id": "fQMdlm7U0v-l"
      },
      "source": [
        "**check manually your code**"
      ]
    },
    {
      "cell_type": "code",
      "execution_count": 10,
      "metadata": {
        "id": "isQpqy5W0v-l",
        "outputId": "4a08d5a7-65b6-4af5-dcfc-2dd33f54a0b2",
        "colab": {
          "base_uri": "https://localhost:8080/"
        }
      },
      "outputs": [
        {
          "output_type": "execute_result",
          "data": {
            "text/plain": [
              "(55, 14930352)"
            ]
          },
          "metadata": {},
          "execution_count": 10
        }
      ],
      "source": [
        "fibonacci(10), fibonacci(36)"
      ]
    },
    {
      "cell_type": "markdown",
      "metadata": {
        "id": "IcViz6X_0v-l"
      },
      "source": [
        "**submit your code**"
      ]
    },
    {
      "cell_type": "code",
      "execution_count": 11,
      "metadata": {
        "scrolled": true,
        "id": "Md8F3lSa0v-q",
        "outputId": "dc3a9a3b-e2b2-4d44-de69-82161cb5bd79",
        "colab": {
          "base_uri": "https://localhost:8080/",
          "height": 128
        }
      },
      "outputs": [
        {
          "output_type": "display_data",
          "data": {
            "text/plain": [
              "<IPython.core.display.HTML object>"
            ],
            "text/html": [
              "\n",
              "                    <b>task_03 submitted.</b> <b><font color=\"blue\">your grade is 5</font></b> \n",
              "                    <p/><pre>----- grader message -------</pre>testing with 100 random calls<br/><b>correct</b><pre>----------------------------</pre>\n",
              "                    <p/><p/>\n",
              "                    <div style=\"font-size:10px\"><b>SUBMISSION CODE</b> MpRKyf6pVR0lqWlww18aApNu0jhtonjIJkOE5sFpjZp7r+rubc/l4Ho6bq82y3TiM9KLucs/riWBMVSXusSxPpGMVkTY4+XSptFZSr1y0V8jomxmqlA8KqY1Bc8n8CM4dQkzBC4nkpXx/LRRZgWTMWYpE4M9qrgBR372Bt8ooy0=</div>\n",
              "                    "
            ]
          },
          "metadata": {}
        }
      ],
      "source": [
        "student.submit_task(globals(), task_id=\"task_03\");"
      ]
    },
    {
      "cell_type": "markdown",
      "metadata": {
        "id": "izw0EhLl0v-r"
      },
      "source": [
        "## Task 4: Perfect number\n",
        "\n",
        "complete the following function so that it accepts an integer $n$ and returns `True` if $n$ is a perfect number and `False` otherwise.\n",
        "\n",
        "A perfect number is a positive integer that is equal to the sum of its positive divisors, excluding the number itself. For instance $6=3+2+1$\n",
        "\n",
        "See https://en.wikipedia.org/wiki/Perfect_number\n",
        "\n",
        "**Execution example**\n",
        "```python\n",
        ">>> perfecto(6)\n",
        "True\n",
        "\n",
        ">>> perfecto(51)\n",
        "False\n",
        "\n",
        ">>> perfecto(496)\n",
        "True\n",
        "```\n",
        "**hint**: make a loop of all numbers up to $n$ and use the modulus operator `%` to identify which are the divisors, then sum them up.\n",
        "\n"
      ]
    },
    {
      "cell_type": "code",
      "execution_count": 12,
      "metadata": {
        "id": "D_Y-MOpY0v-r",
        "outputId": "17f13b15-e497-41b4-d1ea-7afdfd3150ba",
        "colab": {
          "base_uri": "https://localhost:8080/"
        }
      },
      "outputs": [
        {
          "output_type": "execute_result",
          "data": {
            "text/plain": [
              "(0, 0, 0, 2, 0, 5, 4)"
            ]
          },
          "metadata": {},
          "execution_count": 12
        }
      ],
      "source": [
        "n = 12\n",
        "n%2, n%3, n%4, n%5, n%6, n%7, n%8"
      ]
    },
    {
      "cell_type": "code",
      "execution_count": 13,
      "metadata": {
        "id": "UefEjyEK0v-r"
      },
      "outputs": [],
      "source": [
        "\n",
        "def perfecto(n):\n",
        "    #tu codigo aqui, pista:\n",
        "    # halle todos los divisores de n y sumelos en una variable auxiliar,\n",
        "    #compare este resultado con el valor original\n",
        "    suma = 0\n",
        "    for i in range(1,n):\n",
        "        if n%i == 0:\n",
        "            suma = suma + i\n",
        "    if suma == n:\n",
        "        return True\n",
        "    else:\n",
        "        return False"
      ]
    },
    {
      "cell_type": "markdown",
      "metadata": {
        "id": "cz4i5eE00v-s"
      },
      "source": [
        "**check your answer**"
      ]
    },
    {
      "cell_type": "code",
      "execution_count": 14,
      "metadata": {
        "id": "3wYu3YVu0v-s",
        "outputId": "13861271-e6fa-49c4-f228-010481f97a93",
        "colab": {
          "base_uri": "https://localhost:8080/"
        }
      },
      "outputs": [
        {
          "output_type": "execute_result",
          "data": {
            "text/plain": [
              "(True, False, True)"
            ]
          },
          "metadata": {},
          "execution_count": 14
        }
      ],
      "source": [
        "perfecto(6), perfecto(51), perfecto(496)\n"
      ]
    },
    {
      "cell_type": "code",
      "execution_count": null,
      "metadata": {
        "id": "80fSPQJq0v-s"
      },
      "outputs": [],
      "source": []
    },
    {
      "cell_type": "markdown",
      "metadata": {
        "id": "e2RSmM3k0v-s"
      },
      "source": [
        "**submit your code**"
      ]
    },
    {
      "cell_type": "code",
      "execution_count": 15,
      "metadata": {
        "scrolled": true,
        "id": "qMTaaCne0v-s",
        "outputId": "9648d54f-a1ba-4c30-a7e1-6eba743310fb",
        "colab": {
          "base_uri": "https://localhost:8080/",
          "height": 128
        }
      },
      "outputs": [
        {
          "output_type": "display_data",
          "data": {
            "text/plain": [
              "<IPython.core.display.HTML object>"
            ],
            "text/html": [
              "\n",
              "                    <b>task_04 submitted.</b> <b><font color=\"blue\">your grade is 5</font></b> \n",
              "                    <p/><pre>----- grader message -------</pre>testing with 100 random calls<br/><b>correct</b><pre>----------------------------</pre>\n",
              "                    <p/><p/>\n",
              "                    <div style=\"font-size:10px\"><b>SUBMISSION CODE</b> QyQmOgV8smM3iZYxNjNuuLhDjNtVkvbLufJA9M6q7uJ4Pw4ddXxQBYPev+kSnjl49SMBY9DvFYVjPL65v4xn5gUgXvZSMoZ/ijgSoIbhE5D+PygkoZi/IqkJRO5ASYqrAuX4TsCLd5CenrPExIca6clck4IBox8Aaf6v5O4I3QE=</div>\n",
              "                    "
            ]
          },
          "metadata": {}
        }
      ],
      "source": [
        "student.submit_task(globals(), task_id=\"task_04\");"
      ]
    },
    {
      "cell_type": "code",
      "execution_count": null,
      "metadata": {
        "id": "KJjjkBb70v-s"
      },
      "outputs": [],
      "source": []
    }
  ],
  "metadata": {
    "kernelspec": {
      "display_name": "Python 3",
      "language": "python",
      "name": "python3"
    },
    "language_info": {
      "codemirror_mode": {
        "name": "ipython",
        "version": 3
      },
      "file_extension": ".py",
      "mimetype": "text/x-python",
      "name": "python",
      "nbconvert_exporter": "python",
      "pygments_lexer": "ipython3",
      "version": "3.7.3"
    },
    "colab": {
      "provenance": []
    },
    "widgets": {
      "application/vnd.jupyter.widget-state+json": {
        "6747a7177a78492fa48453bbf57def39": {
          "model_module": "@jupyter-widgets/controls",
          "model_name": "HBoxModel",
          "model_module_version": "1.5.0",
          "state": {
            "_dom_classes": [],
            "_model_module": "@jupyter-widgets/controls",
            "_model_module_version": "1.5.0",
            "_model_name": "HBoxModel",
            "_view_count": null,
            "_view_module": "@jupyter-widgets/controls",
            "_view_module_version": "1.5.0",
            "_view_name": "HBoxView",
            "box_style": "",
            "children": [
              "IPY_MODEL_91f837e81e2940efb00a4fb89eb21155",
              "IPY_MODEL_b08beff53cb24066b35ad202d5c16f67",
              "IPY_MODEL_4fbc0564e3b747e8b5932b44363b778c",
              "IPY_MODEL_37eb53f226ac41b9a8aeffec96393a47"
            ],
            "layout": "IPY_MODEL_7e98e63d2e3f4f74bfcc3731d30ad9cc"
          }
        },
        "91f837e81e2940efb00a4fb89eb21155": {
          "model_module": "@jupyter-widgets/controls",
          "model_name": "VBoxModel",
          "model_module_version": "1.5.0",
          "state": {
            "_dom_classes": [],
            "_model_module": "@jupyter-widgets/controls",
            "_model_module_version": "1.5.0",
            "_model_name": "VBoxModel",
            "_view_count": null,
            "_view_module": "@jupyter-widgets/controls",
            "_view_module_version": "1.5.0",
            "_view_name": "VBoxView",
            "box_style": "",
            "children": [
              "IPY_MODEL_9a787137eb2c4405abbacfade999aead",
              "IPY_MODEL_167687db65304037a4f3a045f67d7b8c"
            ],
            "layout": "IPY_MODEL_7ccef82d3af24de9a2f7c74d72468500"
          }
        },
        "b08beff53cb24066b35ad202d5c16f67": {
          "model_module": "@jupyter-widgets/controls",
          "model_name": "ButtonModel",
          "model_module_version": "1.5.0",
          "state": {
            "_dom_classes": [
              "login_button"
            ],
            "_model_module": "@jupyter-widgets/controls",
            "_model_module_version": "1.5.0",
            "_model_name": "ButtonModel",
            "_view_count": null,
            "_view_module": "@jupyter-widgets/controls",
            "_view_module_version": "1.5.0",
            "_view_name": "ButtonView",
            "button_style": "",
            "description": "Login with email",
            "disabled": false,
            "icon": "",
            "layout": "IPY_MODEL_b3d9debeb0204cc7b8c79a192aed0b0c",
            "style": "IPY_MODEL_fafab820f7154453a8b128dcadb696dd",
            "tooltip": ""
          }
        },
        "4fbc0564e3b747e8b5932b44363b778c": {
          "model_module": "@jupyter-widgets/controls",
          "model_name": "HTMLModel",
          "model_module_version": "1.5.0",
          "state": {
            "_dom_classes": [],
            "_model_module": "@jupyter-widgets/controls",
            "_model_module_version": "1.5.0",
            "_model_name": "HTMLModel",
            "_view_count": null,
            "_view_module": "@jupyter-widgets/controls",
            "_view_module_version": "1.5.0",
            "_view_name": "HTMLView",
            "description": "",
            "description_tooltip": null,
            "layout": "IPY_MODEL_f3c46fd97ad64a13a689c6ba868365d2",
            "placeholder": "​",
            "style": "IPY_MODEL_a448a5c58993444daa1e5aaed5faca05",
            "value": "<center><big>or</big></center>"
          }
        },
        "37eb53f226ac41b9a8aeffec96393a47": {
          "model_module": "@jupyter-widgets/controls",
          "model_name": "ButtonModel",
          "model_module_version": "1.5.0",
          "state": {
            "_dom_classes": [
              "google_button"
            ],
            "_model_module": "@jupyter-widgets/controls",
            "_model_module_version": "1.5.0",
            "_model_name": "ButtonModel",
            "_view_count": null,
            "_view_module": "@jupyter-widgets/controls",
            "_view_module_version": "1.5.0",
            "_view_name": "ButtonView",
            "button_style": "",
            "description": "Login with Google",
            "disabled": false,
            "icon": "",
            "layout": "IPY_MODEL_f8730865a22a4729b67e64b57127154a",
            "style": "IPY_MODEL_55e2d17342f0455a8f0feb1584c437e6",
            "tooltip": ""
          }
        },
        "7e98e63d2e3f4f74bfcc3731d30ad9cc": {
          "model_module": "@jupyter-widgets/base",
          "model_name": "LayoutModel",
          "model_module_version": "1.2.0",
          "state": {
            "_model_module": "@jupyter-widgets/base",
            "_model_module_version": "1.2.0",
            "_model_name": "LayoutModel",
            "_view_count": null,
            "_view_module": "@jupyter-widgets/base",
            "_view_module_version": "1.2.0",
            "_view_name": "LayoutView",
            "align_content": null,
            "align_items": null,
            "align_self": null,
            "border": null,
            "bottom": null,
            "display": null,
            "flex": null,
            "flex_flow": null,
            "grid_area": null,
            "grid_auto_columns": null,
            "grid_auto_flow": null,
            "grid_auto_rows": null,
            "grid_column": null,
            "grid_gap": null,
            "grid_row": null,
            "grid_template_areas": null,
            "grid_template_columns": null,
            "grid_template_rows": null,
            "height": null,
            "justify_content": null,
            "justify_items": null,
            "left": null,
            "margin": null,
            "max_height": null,
            "max_width": null,
            "min_height": null,
            "min_width": null,
            "object_fit": null,
            "object_position": null,
            "order": null,
            "overflow": null,
            "overflow_x": null,
            "overflow_y": null,
            "padding": null,
            "right": null,
            "top": null,
            "visibility": null,
            "width": null
          }
        },
        "9a787137eb2c4405abbacfade999aead": {
          "model_module": "@jupyter-widgets/controls",
          "model_name": "TextModel",
          "model_module_version": "1.5.0",
          "state": {
            "_dom_classes": [],
            "_model_module": "@jupyter-widgets/controls",
            "_model_module_version": "1.5.0",
            "_model_name": "TextModel",
            "_view_count": null,
            "_view_module": "@jupyter-widgets/controls",
            "_view_module_version": "1.5.0",
            "_view_name": "TextView",
            "continuous_update": true,
            "description": "email",
            "description_tooltip": null,
            "disabled": false,
            "layout": "IPY_MODEL_ea9901ca0eb8413897a5bedc65f1a29f",
            "placeholder": "​",
            "style": "IPY_MODEL_f065b464abf2488aa2c698980fa8740a",
            "value": ""
          }
        },
        "167687db65304037a4f3a045f67d7b8c": {
          "model_module": "@jupyter-widgets/controls",
          "model_name": "PasswordModel",
          "model_module_version": "1.5.0",
          "state": {
            "_dom_classes": [],
            "_model_module": "@jupyter-widgets/controls",
            "_model_module_version": "1.5.0",
            "_model_name": "PasswordModel",
            "_view_count": null,
            "_view_module": "@jupyter-widgets/controls",
            "_view_module_version": "1.5.0",
            "_view_name": "PasswordView",
            "continuous_update": true,
            "description": "password",
            "description_tooltip": null,
            "disabled": false,
            "layout": "IPY_MODEL_0ced3f3934fb4806b12a3b57b63c9d45",
            "placeholder": "​",
            "style": "IPY_MODEL_5dbfb0e961be4a90bdd617b742155826",
            "value": ""
          }
        },
        "7ccef82d3af24de9a2f7c74d72468500": {
          "model_module": "@jupyter-widgets/base",
          "model_name": "LayoutModel",
          "model_module_version": "1.2.0",
          "state": {
            "_model_module": "@jupyter-widgets/base",
            "_model_module_version": "1.2.0",
            "_model_name": "LayoutModel",
            "_view_count": null,
            "_view_module": "@jupyter-widgets/base",
            "_view_module_version": "1.2.0",
            "_view_name": "LayoutView",
            "align_content": null,
            "align_items": null,
            "align_self": null,
            "border": null,
            "bottom": null,
            "display": null,
            "flex": null,
            "flex_flow": null,
            "grid_area": null,
            "grid_auto_columns": null,
            "grid_auto_flow": null,
            "grid_auto_rows": null,
            "grid_column": null,
            "grid_gap": null,
            "grid_row": null,
            "grid_template_areas": null,
            "grid_template_columns": null,
            "grid_template_rows": null,
            "height": null,
            "justify_content": null,
            "justify_items": null,
            "left": null,
            "margin": null,
            "max_height": null,
            "max_width": null,
            "min_height": null,
            "min_width": null,
            "object_fit": null,
            "object_position": null,
            "order": null,
            "overflow": null,
            "overflow_x": null,
            "overflow_y": null,
            "padding": null,
            "right": null,
            "top": null,
            "visibility": null,
            "width": null
          }
        },
        "b3d9debeb0204cc7b8c79a192aed0b0c": {
          "model_module": "@jupyter-widgets/base",
          "model_name": "LayoutModel",
          "model_module_version": "1.2.0",
          "state": {
            "_model_module": "@jupyter-widgets/base",
            "_model_module_version": "1.2.0",
            "_model_name": "LayoutModel",
            "_view_count": null,
            "_view_module": "@jupyter-widgets/base",
            "_view_module_version": "1.2.0",
            "_view_name": "LayoutView",
            "align_content": null,
            "align_items": null,
            "align_self": null,
            "border": null,
            "bottom": null,
            "display": null,
            "flex": null,
            "flex_flow": null,
            "grid_area": null,
            "grid_auto_columns": null,
            "grid_auto_flow": null,
            "grid_auto_rows": null,
            "grid_column": null,
            "grid_gap": null,
            "grid_row": null,
            "grid_template_areas": null,
            "grid_template_columns": null,
            "grid_template_rows": null,
            "height": "53px",
            "justify_content": null,
            "justify_items": null,
            "left": null,
            "margin": null,
            "max_height": null,
            "max_width": null,
            "min_height": null,
            "min_width": null,
            "object_fit": null,
            "object_position": null,
            "order": null,
            "overflow": null,
            "overflow_x": null,
            "overflow_y": null,
            "padding": null,
            "right": null,
            "top": null,
            "visibility": null,
            "width": "150px"
          }
        },
        "fafab820f7154453a8b128dcadb696dd": {
          "model_module": "@jupyter-widgets/controls",
          "model_name": "ButtonStyleModel",
          "model_module_version": "1.5.0",
          "state": {
            "_model_module": "@jupyter-widgets/controls",
            "_model_module_version": "1.5.0",
            "_model_name": "ButtonStyleModel",
            "_view_count": null,
            "_view_module": "@jupyter-widgets/base",
            "_view_module_version": "1.2.0",
            "_view_name": "StyleView",
            "button_color": null,
            "font_weight": ""
          }
        },
        "f3c46fd97ad64a13a689c6ba868365d2": {
          "model_module": "@jupyter-widgets/base",
          "model_name": "LayoutModel",
          "model_module_version": "1.2.0",
          "state": {
            "_model_module": "@jupyter-widgets/base",
            "_model_module_version": "1.2.0",
            "_model_name": "LayoutModel",
            "_view_count": null,
            "_view_module": "@jupyter-widgets/base",
            "_view_module_version": "1.2.0",
            "_view_name": "LayoutView",
            "align_content": null,
            "align_items": null,
            "align_self": null,
            "border": null,
            "bottom": null,
            "display": null,
            "flex": null,
            "flex_flow": null,
            "grid_area": null,
            "grid_auto_columns": null,
            "grid_auto_flow": null,
            "grid_auto_rows": null,
            "grid_column": null,
            "grid_gap": null,
            "grid_row": null,
            "grid_template_areas": null,
            "grid_template_columns": null,
            "grid_template_rows": null,
            "height": null,
            "justify_content": null,
            "justify_items": null,
            "left": null,
            "margin": null,
            "max_height": null,
            "max_width": null,
            "min_height": null,
            "min_width": null,
            "object_fit": null,
            "object_position": null,
            "order": null,
            "overflow": null,
            "overflow_x": null,
            "overflow_y": null,
            "padding": null,
            "right": null,
            "top": null,
            "visibility": null,
            "width": "100px"
          }
        },
        "a448a5c58993444daa1e5aaed5faca05": {
          "model_module": "@jupyter-widgets/controls",
          "model_name": "DescriptionStyleModel",
          "model_module_version": "1.5.0",
          "state": {
            "_model_module": "@jupyter-widgets/controls",
            "_model_module_version": "1.5.0",
            "_model_name": "DescriptionStyleModel",
            "_view_count": null,
            "_view_module": "@jupyter-widgets/base",
            "_view_module_version": "1.2.0",
            "_view_name": "StyleView",
            "description_width": ""
          }
        },
        "f8730865a22a4729b67e64b57127154a": {
          "model_module": "@jupyter-widgets/base",
          "model_name": "LayoutModel",
          "model_module_version": "1.2.0",
          "state": {
            "_model_module": "@jupyter-widgets/base",
            "_model_module_version": "1.2.0",
            "_model_name": "LayoutModel",
            "_view_count": null,
            "_view_module": "@jupyter-widgets/base",
            "_view_module_version": "1.2.0",
            "_view_name": "LayoutView",
            "align_content": null,
            "align_items": null,
            "align_self": null,
            "border": null,
            "bottom": null,
            "display": null,
            "flex": null,
            "flex_flow": null,
            "grid_area": null,
            "grid_auto_columns": null,
            "grid_auto_flow": null,
            "grid_auto_rows": null,
            "grid_column": null,
            "grid_gap": null,
            "grid_row": null,
            "grid_template_areas": null,
            "grid_template_columns": null,
            "grid_template_rows": null,
            "height": "53px",
            "justify_content": null,
            "justify_items": null,
            "left": null,
            "margin": null,
            "max_height": null,
            "max_width": null,
            "min_height": null,
            "min_width": null,
            "object_fit": null,
            "object_position": null,
            "order": null,
            "overflow": null,
            "overflow_x": null,
            "overflow_y": null,
            "padding": null,
            "right": null,
            "top": null,
            "visibility": null,
            "width": "200px"
          }
        },
        "55e2d17342f0455a8f0feb1584c437e6": {
          "model_module": "@jupyter-widgets/controls",
          "model_name": "ButtonStyleModel",
          "model_module_version": "1.5.0",
          "state": {
            "_model_module": "@jupyter-widgets/controls",
            "_model_module_version": "1.5.0",
            "_model_name": "ButtonStyleModel",
            "_view_count": null,
            "_view_module": "@jupyter-widgets/base",
            "_view_module_version": "1.2.0",
            "_view_name": "StyleView",
            "button_color": null,
            "font_weight": ""
          }
        },
        "ea9901ca0eb8413897a5bedc65f1a29f": {
          "model_module": "@jupyter-widgets/base",
          "model_name": "LayoutModel",
          "model_module_version": "1.2.0",
          "state": {
            "_model_module": "@jupyter-widgets/base",
            "_model_module_version": "1.2.0",
            "_model_name": "LayoutModel",
            "_view_count": null,
            "_view_module": "@jupyter-widgets/base",
            "_view_module_version": "1.2.0",
            "_view_name": "LayoutView",
            "align_content": null,
            "align_items": null,
            "align_self": null,
            "border": null,
            "bottom": null,
            "display": null,
            "flex": null,
            "flex_flow": null,
            "grid_area": null,
            "grid_auto_columns": null,
            "grid_auto_flow": null,
            "grid_auto_rows": null,
            "grid_column": null,
            "grid_gap": null,
            "grid_row": null,
            "grid_template_areas": null,
            "grid_template_columns": null,
            "grid_template_rows": null,
            "height": "25px",
            "justify_content": null,
            "justify_items": null,
            "left": null,
            "margin": null,
            "max_height": null,
            "max_width": null,
            "min_height": null,
            "min_width": null,
            "object_fit": null,
            "object_position": null,
            "order": null,
            "overflow": null,
            "overflow_x": null,
            "overflow_y": null,
            "padding": null,
            "right": null,
            "top": null,
            "visibility": null,
            "width": "300px"
          }
        },
        "f065b464abf2488aa2c698980fa8740a": {
          "model_module": "@jupyter-widgets/controls",
          "model_name": "DescriptionStyleModel",
          "model_module_version": "1.5.0",
          "state": {
            "_model_module": "@jupyter-widgets/controls",
            "_model_module_version": "1.5.0",
            "_model_name": "DescriptionStyleModel",
            "_view_count": null,
            "_view_module": "@jupyter-widgets/base",
            "_view_module_version": "1.2.0",
            "_view_name": "StyleView",
            "description_width": ""
          }
        },
        "0ced3f3934fb4806b12a3b57b63c9d45": {
          "model_module": "@jupyter-widgets/base",
          "model_name": "LayoutModel",
          "model_module_version": "1.2.0",
          "state": {
            "_model_module": "@jupyter-widgets/base",
            "_model_module_version": "1.2.0",
            "_model_name": "LayoutModel",
            "_view_count": null,
            "_view_module": "@jupyter-widgets/base",
            "_view_module_version": "1.2.0",
            "_view_name": "LayoutView",
            "align_content": null,
            "align_items": null,
            "align_self": null,
            "border": null,
            "bottom": null,
            "display": null,
            "flex": null,
            "flex_flow": null,
            "grid_area": null,
            "grid_auto_columns": null,
            "grid_auto_flow": null,
            "grid_auto_rows": null,
            "grid_column": null,
            "grid_gap": null,
            "grid_row": null,
            "grid_template_areas": null,
            "grid_template_columns": null,
            "grid_template_rows": null,
            "height": "24px",
            "justify_content": null,
            "justify_items": null,
            "left": null,
            "margin": null,
            "max_height": null,
            "max_width": null,
            "min_height": null,
            "min_width": null,
            "object_fit": null,
            "object_position": null,
            "order": null,
            "overflow": null,
            "overflow_x": null,
            "overflow_y": null,
            "padding": null,
            "right": null,
            "top": null,
            "visibility": null,
            "width": "300px"
          }
        },
        "5dbfb0e961be4a90bdd617b742155826": {
          "model_module": "@jupyter-widgets/controls",
          "model_name": "DescriptionStyleModel",
          "model_module_version": "1.5.0",
          "state": {
            "_model_module": "@jupyter-widgets/controls",
            "_model_module_version": "1.5.0",
            "_model_name": "DescriptionStyleModel",
            "_view_count": null,
            "_view_module": "@jupyter-widgets/base",
            "_view_module_version": "1.2.0",
            "_view_name": "StyleView",
            "description_width": ""
          }
        }
      }
    }
  },
  "nbformat": 4,
  "nbformat_minor": 0
}