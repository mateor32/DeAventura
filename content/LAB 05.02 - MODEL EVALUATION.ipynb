{
  "cells": [
    {
      "cell_type": "markdown",
      "metadata": {
        "id": "TVX85NsSb1Xi"
      },
      "source": [
        "# LAB 05.02 - Model evaluation"
      ]
    },
    {
      "cell_type": "code",
      "execution_count": 1,
      "metadata": {
        "id": "4Y2JPTjSb1Xk",
        "outputId": "fdf5506b-22db-4ea1-ddd6-62947226c7f9",
        "colab": {
          "base_uri": "https://localhost:8080/",
          "height": 75
        }
      },
      "outputs": [
        {
          "output_type": "display_data",
          "data": {
            "text/plain": [
              "<IPython.core.display.HTML object>"
            ],
            "text/html": [
              "\n",
              "<meta name=\"google-signin-client_id\"\n",
              "      content=\"461673936472-kdjosv61up3ac1ajeuq6qqu72upilmls.apps.googleusercontent.com\"/>\n",
              "<script src=\"https://apis.google.com/js/client:platform.js?onload=google_button_start\"></script>\n",
              "    "
            ]
          },
          "metadata": {}
        },
        {
          "output_type": "stream",
          "name": "stdout",
          "text": [
            "replicating local resources\n"
          ]
        },
        {
          "output_type": "execute_result",
          "data": {
            "text/plain": [
              "<IPython.core.display.HTML object>"
            ],
            "text/html": [
              "<h3>See <a href='https://m5knaekxo6.execute-api.us-west-2.amazonaws.com/dev-v0001/rlxmooc/web/login' target='_blank'>my courses and progress</a></h2>"
            ]
          },
          "metadata": {},
          "execution_count": 1
        }
      ],
      "source": [
        "!wget --no-cache -O init.py -q https://raw.githubusercontent.com/rramosp/ai4eng.v1/main/content/init.py\n",
        "import init; init.init(force_download=False); init.get_weblink()\n"
      ]
    },
    {
      "cell_type": "code",
      "execution_count": 44,
      "metadata": {
        "id": "31sQgge2b1Xm",
        "outputId": "3b94fb17-b5de-4d2b-96d4-c01489584e2f",
        "colab": {
          "base_uri": "https://localhost:8080/",
          "height": 74,
          "referenced_widgets": [
            "592b43a11a864862b8eebb04496e3e17",
            "bdc900d973414ee4ae1aa3bdc6eae6e8",
            "019b2df246a1413fa9569821a76ef26d",
            "06b7d29109744178b7893461acc3c26b",
            "7dbdcafd063246dea9e55418dae69a79",
            "4e42683f68ab4ed39cb4f7ac2beeaad7",
            "1e23919db9a8412cb6ebc44cc5461488",
            "7e54c04761a04d05b687fb839c0d9439",
            "8baa8ae30cb1415d88be05c776ef3cda",
            "65748569d52d44e4b49eb168bd62ce96",
            "4d59e1135f7e47eab4fa1b261a344ad9",
            "1bb619ae484b481bbc8f6925e3e594d5",
            "1f3e9c703bf14c29a0d84b9274ec7830",
            "8059ba92d14542be91f74e92efa3a598",
            "f23a256169aa4cd98f46cc42e7ce3aca",
            "a2a43f1215fe4c8ea31b9b010e587015",
            "c6af48c56a2c4083b95ac8c86a328328",
            "34fe744d80fd4e6c8907bfdd3809e081",
            "4c721ec1b6304db8a2e4d51ffe00343e"
          ]
        }
      },
      "outputs": [
        {
          "output_type": "stream",
          "name": "stdout",
          "text": [
            "logging in as mateo.reyesu@udea.edu.co... please wait\n",
            "\n",
            "-------------\n",
            "using course session ai4eng.v1.udea.r3::2025.2\n",
            "success!! you are logged in\n",
            "-------------\n"
          ]
        }
      ],
      "source": [
        "from local.lib.rlxmoocapi import submit, session\n",
        "session.LoginSequence(endpoint=init.endpoint, course_id=init.course_id, lab_id=\"L05.02\", varname=\"student\");"
      ]
    },
    {
      "cell_type": "markdown",
      "metadata": {
        "id": "JKvEb8jDb1Xn"
      },
      "source": [
        "## Task 1: Partition randomly `numpy` arrays\n",
        "\n",
        "observe we can select specific rows and/or columns on a numpy array"
      ]
    },
    {
      "cell_type": "code",
      "execution_count": 3,
      "metadata": {
        "id": "4zI4a6Lyb1Xn",
        "outputId": "676d9809-6c1d-433f-bf63-d2aa51d18503",
        "colab": {
          "base_uri": "https://localhost:8080/"
        }
      },
      "outputs": [
        {
          "output_type": "execute_result",
          "data": {
            "text/plain": [
              "array([[ 0,  1,  2,  3,  4],\n",
              "       [ 1, 87, 74,  3, 97],\n",
              "       [ 2, 82, 45, 72,  9],\n",
              "       [ 3, 94, 99, 76, 67],\n",
              "       [ 4, 11, 73, 70, 21],\n",
              "       [ 5, 61, 37, 66, 41],\n",
              "       [ 6,  5, 31, 15, 56],\n",
              "       [ 7, 12, 57, 45, 84],\n",
              "       [ 8, 96, 86, 83, 83],\n",
              "       [ 9, 39, 42, 11, 38],\n",
              "       [10, 28, 91, 17, 87],\n",
              "       [11, 79, 86, 57, 36],\n",
              "       [12, 58, 52, 26, 61],\n",
              "       [13, 47, 44, 38, 93],\n",
              "       [14, 82, 31, 86, 98],\n",
              "       [15, 62, 81, 60, 90],\n",
              "       [16, 13, 19,  9, 70],\n",
              "       [17, 10, 69, 11, 24],\n",
              "       [18, 46, 18, 28, 68],\n",
              "       [19, 65, 56, 63, 86]])"
            ]
          },
          "metadata": {},
          "execution_count": 3
        }
      ],
      "source": [
        "import numpy as np\n",
        "\n",
        "x = np.random.randint(100, size=(20,5))\n",
        "x[:,0] = range(len(x))\n",
        "x[0,:] = range(x.shape[1])\n",
        "x"
      ]
    },
    {
      "cell_type": "code",
      "execution_count": 4,
      "metadata": {
        "id": "XaTX3Mtmb1Xo",
        "outputId": "0df2f25c-6962-4369-a2db-e5c031967953",
        "colab": {
          "base_uri": "https://localhost:8080/"
        }
      },
      "outputs": [
        {
          "output_type": "execute_result",
          "data": {
            "text/plain": [
              "array([[ 2, 82, 45, 72,  9],\n",
              "       [ 4, 11, 73, 70, 21],\n",
              "       [ 5, 61, 37, 66, 41]])"
            ]
          },
          "metadata": {},
          "execution_count": 4
        }
      ],
      "source": [
        "ridxs = np.r_[2,4,5]\n",
        "x[ridxs]"
      ]
    },
    {
      "cell_type": "code",
      "execution_count": 5,
      "metadata": {
        "id": "Hyr7Qls_b1Xo",
        "outputId": "485335b1-0619-4120-fc32-89de9e7a6adf",
        "colab": {
          "base_uri": "https://localhost:8080/"
        }
      },
      "outputs": [
        {
          "output_type": "execute_result",
          "data": {
            "text/plain": [
              "array([[ 1,  3],\n",
              "       [87,  3],\n",
              "       [82, 72],\n",
              "       [94, 76],\n",
              "       [11, 70],\n",
              "       [61, 66],\n",
              "       [ 5, 15],\n",
              "       [12, 45],\n",
              "       [96, 83],\n",
              "       [39, 11],\n",
              "       [28, 17],\n",
              "       [79, 57],\n",
              "       [58, 26],\n",
              "       [47, 38],\n",
              "       [82, 86],\n",
              "       [62, 60],\n",
              "       [13,  9],\n",
              "       [10, 11],\n",
              "       [46, 28],\n",
              "       [65, 63]])"
            ]
          },
          "metadata": {},
          "execution_count": 5
        }
      ],
      "source": [
        "cidxs = np.r_[1,3]\n",
        "x[:,cidxs]"
      ]
    },
    {
      "cell_type": "code",
      "execution_count": 6,
      "metadata": {
        "id": "Sqdm9qrxb1Xp",
        "outputId": "f9a5a959-b3c5-4bcf-eb3a-3865061c451e",
        "colab": {
          "base_uri": "https://localhost:8080/"
        }
      },
      "outputs": [
        {
          "output_type": "execute_result",
          "data": {
            "text/plain": [
              "array([[82, 72],\n",
              "       [11, 70],\n",
              "       [61, 66]])"
            ]
          },
          "metadata": {},
          "execution_count": 6
        }
      ],
      "source": [
        "x[ridxs][:, cidxs]"
      ]
    },
    {
      "cell_type": "markdown",
      "metadata": {
        "id": "LFqdPwwDb1Xp"
      },
      "source": [
        "and the dimensions of the array are accessible through `len` and `shape`"
      ]
    },
    {
      "cell_type": "code",
      "execution_count": 7,
      "metadata": {
        "id": "KwVSdHt-b1Xq",
        "outputId": "1dd39548-f94c-4a73-b9e6-b38cc2366274",
        "colab": {
          "base_uri": "https://localhost:8080/"
        }
      },
      "outputs": [
        {
          "output_type": "execute_result",
          "data": {
            "text/plain": [
              "(20, (20, 5))"
            ]
          },
          "metadata": {},
          "execution_count": 7
        }
      ],
      "source": [
        "len(x), x.shape"
      ]
    },
    {
      "cell_type": "markdown",
      "metadata": {
        "id": "8wZt5decb1Xq"
      },
      "source": [
        "observe also how we can partition it"
      ]
    },
    {
      "cell_type": "code",
      "execution_count": 8,
      "metadata": {
        "id": "6dokxJbFb1Xq",
        "outputId": "4bf3d21e-4e29-482d-f4fa-78a04f470828",
        "colab": {
          "base_uri": "https://localhost:8080/"
        }
      },
      "outputs": [
        {
          "output_type": "execute_result",
          "data": {
            "text/plain": [
              "array([[ 0,  1,  2,  3,  4],\n",
              "       [ 1, 87, 74,  3, 97],\n",
              "       [ 2, 82, 45, 72,  9]])"
            ]
          },
          "metadata": {},
          "execution_count": 8
        }
      ],
      "source": [
        "x[:3]"
      ]
    },
    {
      "cell_type": "code",
      "execution_count": 9,
      "metadata": {
        "id": "YiH99JEgb1Xq",
        "outputId": "986bf7e5-44e1-494e-dd1d-2afd03b2ab01",
        "colab": {
          "base_uri": "https://localhost:8080/"
        }
      },
      "outputs": [
        {
          "output_type": "execute_result",
          "data": {
            "text/plain": [
              "array([[ 3, 94, 99, 76, 67],\n",
              "       [ 4, 11, 73, 70, 21],\n",
              "       [ 5, 61, 37, 66, 41],\n",
              "       [ 6,  5, 31, 15, 56],\n",
              "       [ 7, 12, 57, 45, 84],\n",
              "       [ 8, 96, 86, 83, 83],\n",
              "       [ 9, 39, 42, 11, 38],\n",
              "       [10, 28, 91, 17, 87],\n",
              "       [11, 79, 86, 57, 36],\n",
              "       [12, 58, 52, 26, 61],\n",
              "       [13, 47, 44, 38, 93],\n",
              "       [14, 82, 31, 86, 98],\n",
              "       [15, 62, 81, 60, 90],\n",
              "       [16, 13, 19,  9, 70],\n",
              "       [17, 10, 69, 11, 24],\n",
              "       [18, 46, 18, 28, 68],\n",
              "       [19, 65, 56, 63, 86]])"
            ]
          },
          "metadata": {},
          "execution_count": 9
        }
      ],
      "source": [
        "x[3:]"
      ]
    },
    {
      "cell_type": "markdown",
      "metadata": {
        "id": "4hVCt6xnb1Xr"
      },
      "source": [
        "we can do the same thing with vectors"
      ]
    },
    {
      "cell_type": "code",
      "execution_count": 10,
      "metadata": {
        "id": "q0rXFbrvb1Xr",
        "outputId": "1117868f-227d-4248-9220-a71aa8509fa1",
        "colab": {
          "base_uri": "https://localhost:8080/"
        }
      },
      "outputs": [
        {
          "output_type": "execute_result",
          "data": {
            "text/plain": [
              "array([100, 101, 102, 103, 104, 105, 106, 107, 108, 109, 110, 111, 112,\n",
              "       113, 114, 115, 116, 117, 118, 119])"
            ]
          },
          "metadata": {},
          "execution_count": 10
        }
      ],
      "source": [
        "v = np.arange(100,120)\n",
        "v"
      ]
    },
    {
      "cell_type": "code",
      "execution_count": 11,
      "metadata": {
        "id": "i_I-Pw4Ib1Xr",
        "outputId": "a3fba394-e2c5-4c82-aadd-5e404148d505",
        "colab": {
          "base_uri": "https://localhost:8080/"
        }
      },
      "outputs": [
        {
          "output_type": "execute_result",
          "data": {
            "text/plain": [
              "(array([100, 101, 102, 103, 104]),\n",
              " array([105, 106, 107, 108, 109, 110, 111, 112, 113, 114, 115, 116, 117,\n",
              "        118, 119]))"
            ]
          },
          "metadata": {},
          "execution_count": 11
        }
      ],
      "source": [
        "v[:5], v[5:]"
      ]
    },
    {
      "cell_type": "markdown",
      "metadata": {
        "id": "903l8JYib1Xr"
      },
      "source": [
        "finally, observe how we can create a random permutation of a specific vector"
      ]
    },
    {
      "cell_type": "code",
      "execution_count": 12,
      "metadata": {
        "id": "uG9P5P9Qb1Xs",
        "outputId": "5616bf45-117e-4f31-9f13-98a472aa1def",
        "colab": {
          "base_uri": "https://localhost:8080/"
        }
      },
      "outputs": [
        {
          "output_type": "execute_result",
          "data": {
            "text/plain": [
              "array([101, 111, 105, 102, 114, 110, 117, 118, 112, 109, 119, 104, 100,\n",
              "       113, 103, 108, 107, 116, 115, 106])"
            ]
          },
          "metadata": {},
          "execution_count": 12
        }
      ],
      "source": [
        "np.random.permutation(v)"
      ]
    },
    {
      "cell_type": "markdown",
      "metadata": {
        "id": "tnwfhAlub1Xs"
      },
      "source": [
        "or the first natural numbers"
      ]
    },
    {
      "cell_type": "code",
      "execution_count": 13,
      "metadata": {
        "id": "esERtY4gb1Xs",
        "outputId": "89bf24ae-fbbd-4b30-8dce-ad516098923a",
        "colab": {
          "base_uri": "https://localhost:8080/"
        }
      },
      "outputs": [
        {
          "output_type": "execute_result",
          "data": {
            "text/plain": [
              "array([13, 11, 18, 16,  7,  3,  6,  8,  4, 10, 17, 12,  9,  2,  5,  1, 15,\n",
              "        0, 14, 19])"
            ]
          },
          "metadata": {},
          "execution_count": 13
        }
      ],
      "source": [
        "p = np.random.permutation(20)\n",
        "p"
      ]
    },
    {
      "cell_type": "markdown",
      "metadata": {
        "id": "1Jm9TMkob1Xs"
      },
      "source": [
        "how do you interpret this?"
      ]
    },
    {
      "cell_type": "code",
      "execution_count": 14,
      "metadata": {
        "id": "w4JfAj4Db1Xs",
        "outputId": "fabe61ac-bf2a-47d8-ec3f-89b7538bac10",
        "colab": {
          "base_uri": "https://localhost:8080/"
        }
      },
      "outputs": [
        {
          "output_type": "execute_result",
          "data": {
            "text/plain": [
              "array([103, 106, 108, 104, 110, 117, 112, 109, 102, 105, 101, 115, 100,\n",
              "       114, 119])"
            ]
          },
          "metadata": {},
          "execution_count": 14
        }
      ],
      "source": [
        "v[p[5:]]"
      ]
    },
    {
      "cell_type": "code",
      "execution_count": 15,
      "metadata": {
        "id": "_BOc9GtSb1Xt",
        "outputId": "3bff1214-92a3-46e0-96e7-3864defe7426",
        "colab": {
          "base_uri": "https://localhost:8080/"
        }
      },
      "outputs": [
        {
          "output_type": "execute_result",
          "data": {
            "text/plain": [
              "array([[13, 47, 44, 38, 93],\n",
              "       [11, 79, 86, 57, 36],\n",
              "       [18, 46, 18, 28, 68],\n",
              "       [16, 13, 19,  9, 70],\n",
              "       [ 7, 12, 57, 45, 84]])"
            ]
          },
          "metadata": {},
          "execution_count": 15
        }
      ],
      "source": [
        "x[p[:5]]"
      ]
    },
    {
      "cell_type": "code",
      "execution_count": null,
      "metadata": {
        "id": "VcAzef7lb1Xt"
      },
      "outputs": [],
      "source": []
    },
    {
      "cell_type": "code",
      "execution_count": null,
      "metadata": {
        "id": "MUBEJKv6b1Xt"
      },
      "outputs": [],
      "source": []
    },
    {
      "cell_type": "markdown",
      "metadata": {
        "id": "Yw4LeGqsb1Xt"
      },
      "source": [
        "### assignment\n",
        "\n",
        "in this task you will have to complete the function  `split_data` below so that:\n",
        "\n",
        "- it accepts two arguments `X` and `y`, either of which can be any numpy array (1D, 2D, etc.) of the **same** size $n$ (observe the  `assert` statement), and a `pct`\n",
        "- creates a random permutation of the natural number from $0$ to $n-1$\n",
        "- partitions the permutations so that the first partition contains the first `n1_elements` $=$ `int(n * pct)` numbers, and the second partition the rest\n",
        "- interpret the permutation partitions components as indexes to `X` and `y` so that they are partitioned into `X1`, `X2` and `y1`, `y2` respectively\n",
        "\n",
        "note that **indexes to array** must be of type `int`. do the following to convert a float to int"
      ]
    },
    {
      "cell_type": "code",
      "execution_count": 16,
      "metadata": {
        "id": "QCJXtr93b1Xt",
        "outputId": "58cc1bc0-8198-427e-9a0b-d9bc691b5c48",
        "colab": {
          "base_uri": "https://localhost:8080/"
        }
      },
      "outputs": [
        {
          "output_type": "stream",
          "name": "stdout",
          "text": [
            "3.0\n",
            "3\n"
          ]
        }
      ],
      "source": [
        "a,b = 10,.3\n",
        "c = a*b\n",
        "print (c)\n",
        "c = int(c)\n",
        "print(c)"
      ]
    },
    {
      "cell_type": "code",
      "execution_count": 17,
      "metadata": {
        "id": "K7_NFjIHb1Xt",
        "outputId": "1c2f9418-5b94-4430-e843-62c76177c510",
        "colab": {
          "base_uri": "https://localhost:8080/"
        }
      },
      "outputs": [
        {
          "output_type": "stream",
          "name": "stdout",
          "text": [
            "[[ 0  1  2  3  4  5  6  7]\n",
            " [ 1 20 93 67 34 78 20 50]\n",
            " [ 2 39 39 20 72  0  3 90]\n",
            " [ 3 92 60 49 44 41 37 27]\n",
            " [ 4 40 18 69 87 76 91 19]\n",
            " [ 5 80 75 53 61 75 11 38]\n",
            " [ 6 73 78 44 28  3 99 98]\n",
            " [ 7  7 12 43 94  0 12 50]\n",
            " [ 8 95  3 88 19 52 22 38]\n",
            " [ 9 90  9 29 22 21 85 73]\n",
            " [10 60 55 59 40 79 13 96]\n",
            " [11 40 40 85 16  8 22 93]\n",
            " [12 43 90 95 14 75 63 98]\n",
            " [13 30  5 11 51 47  9 45]\n",
            " [14 59 36 24 23 19 30 25]\n",
            " [15 46 64 24 34 62 12 15]\n",
            " [16 60 36 54 61 26 34 88]\n",
            " [17 79 69 11 31 96 60 99]\n",
            " [18 57 56 25 90 10 33 62]\n",
            " [19 86 81 75 80 40 28 73]]\n",
            "[100 101 102 103 104 105 106 107 108 109 110 111 112 113 114 115 116 117\n",
            " 118 119]\n",
            "6728 6728 2190 2190\n",
            "[[11 40 40 85 16  8 22 93]\n",
            " [ 1 20 93 67 34 78 20 50]\n",
            " [18 57 56 25 90 10 33 62]\n",
            " [16 60 36 54 61 26 34 88]\n",
            " [ 7  7 12 43 94  0 12 50]\n",
            " [12 43 90 95 14 75 63 98]\n",
            " [ 0  1  2  3  4  5  6  7]\n",
            " [ 6 73 78 44 28  3 99 98]\n",
            " [ 8 95  3 88 19 52 22 38]\n",
            " [ 5 80 75 53 61 75 11 38]\n",
            " [14 59 36 24 23 19 30 25]\n",
            " [10 60 55 59 40 79 13 96]\n",
            " [ 2 39 39 20 72  0  3 90]\n",
            " [19 86 81 75 80 40 28 73]] \n",
            "--\n",
            "[[15 46 64 24 34 62 12 15]\n",
            " [ 9 90  9 29 22 21 85 73]\n",
            " [17 79 69 11 31 96 60 99]\n",
            " [13 30  5 11 51 47  9 45]\n",
            " [ 3 92 60 49 44 41 37 27]\n",
            " [ 4 40 18 69 87 76 91 19]] \n",
            "--\n",
            "[111 101 118 116 107 112 100 106 108 105 114 110 102 119] \n",
            "--\n",
            "[115 109 117 113 103 104] \n",
            "--\n"
          ]
        }
      ],
      "source": [
        "import numpy as np\n",
        "\n",
        "def split_data(X, y, pct):\n",
        "    # Verifica que X y y tengan el mismo tamaño\n",
        "    assert len(X) == len(y), \"X and y must have the same length\"\n",
        "    assert 0 < pct < 1, \"pct must be in the (0,1) interval\"\n",
        "\n",
        "    # Crea una permutación aleatoria de los índices\n",
        "    permutation = np.random.permutation(len(X))\n",
        "\n",
        "    # Calcula cuántos elementos estarán en la primera partición\n",
        "    n1_elements = int(len(X) * pct)\n",
        "\n",
        "    # Divide la permutación en dos partes\n",
        "    permutation_partition_1 = permutation[:n1_elements]\n",
        "    permutation_partition_2 = permutation[n1_elements:]\n",
        "\n",
        "    # Usa las particiones de permutaciones como índices para dividir X e y\n",
        "    X1 = X[permutation_partition_1]\n",
        "    X2 = X[permutation_partition_2]\n",
        "    y1 = y[permutation_partition_1]\n",
        "    y2 = y[permutation_partition_2]\n",
        "\n",
        "    return X1, X2, y1, y2\n",
        "\n",
        "# Prueba con datos aleatorios\n",
        "XX = np.random.randint(100, size=(20, 8))\n",
        "yy = np.arange(100, 100 + len(XX))\n",
        "XX[:, 0] = range(len(XX))\n",
        "XX[0, :] = range(XX.shape[1])\n",
        "print(XX)\n",
        "print(yy)\n",
        "\n",
        "Xtr, Xts, ytr, yts = split_data(XX, yy, pct=0.7)\n",
        "\n",
        "# Verifica que la partición es correcta\n",
        "print(np.sum(XX), np.sum(Xtr) + np.sum(Xts), np.sum(yy), np.sum(ytr) + np.sum(yts))\n",
        "\n",
        "# Muestra las particiones\n",
        "print(Xtr, \"\\n--\")\n",
        "print(Xts, \"\\n--\")\n",
        "print(ytr, \"\\n--\")\n",
        "print(yts, \"\\n--\")"
      ]
    },
    {
      "cell_type": "markdown",
      "metadata": {
        "id": "p8EqfQSOb1Xu"
      },
      "source": [
        "check your solution manually with the following code"
      ]
    },
    {
      "cell_type": "code",
      "execution_count": 18,
      "metadata": {
        "id": "VHiH99dFb1Xu",
        "outputId": "991f8731-2fed-4080-c0b7-5af15ae18b04",
        "colab": {
          "base_uri": "https://localhost:8080/"
        }
      },
      "outputs": [
        {
          "output_type": "stream",
          "name": "stdout",
          "text": [
            "[[ 0  1  2  3  4  5  6  7]\n",
            " [ 1 26 32 24 44 42 89 51]\n",
            " [ 2 92 93 69 42 66 47  2]\n",
            " [ 3 36 52 26  8 99 92 90]\n",
            " [ 4 76  0 14 84 35 25 22]\n",
            " [ 5 26  3 12 92  4 32 84]\n",
            " [ 6 25 19 94 64 28  2  9]\n",
            " [ 7 11 19 12 24 74  3 55]\n",
            " [ 8 13 64 44 16 75 52 36]\n",
            " [ 9 77 74 47 20 31 43 31]\n",
            " [10 20 22 95 47 71 56 82]\n",
            " [11  0 62 62 89 95 99 16]\n",
            " [12 55 76 21 31 42  0 21]\n",
            " [13 35 35  2 80 29 84 34]\n",
            " [14 69 97 95 32 34 45 30]\n",
            " [15 54 59 75 40 76 91 70]\n",
            " [16  3 46 26 46 74 30 85]\n",
            " [17 54 36 44 63 57  6 79]\n",
            " [18 93 82 71 28 12 45 60]\n",
            " [19 32 10 91 63 63 24 22]]\n",
            "[100 101 102 103 104 105 106 107 108 109 110 111 112 113 114 115 116 117\n",
            " 118 119]\n"
          ]
        }
      ],
      "source": [
        "XX = np.random.randint(100, size=(20,8))\n",
        "yy = np.arange(100,100+len(XX))\n",
        "XX[:,0] = range(len(XX))\n",
        "XX[0,:] = range(XX.shape[1])\n",
        "print (XX)\n",
        "print (yy)"
      ]
    },
    {
      "cell_type": "code",
      "execution_count": 19,
      "metadata": {
        "id": "fvezTE62b1Xu"
      },
      "outputs": [],
      "source": [
        "Xtr, Xts, ytr, yts = split_data(XX, yy, pct=.7)"
      ]
    },
    {
      "cell_type": "code",
      "execution_count": 20,
      "metadata": {
        "id": "jKmTGwhwb1Xu",
        "outputId": "3bb7979f-e22a-4224-cfdf-dac5cacd33d7",
        "colab": {
          "base_uri": "https://localhost:8080/"
        }
      },
      "outputs": [
        {
          "output_type": "execute_result",
          "data": {
            "text/plain": [
              "(np.int64(6484), np.int64(6484), np.int64(2190), np.int64(2190))"
            ]
          },
          "metadata": {},
          "execution_count": 20
        }
      ],
      "source": [
        "# check partition ok\n",
        "np.sum(XX), np.sum(Xtr) + np.sum(Xts), np.sum(yy), np.sum(ytr)+np.sum(yts)"
      ]
    },
    {
      "cell_type": "code",
      "execution_count": 21,
      "metadata": {
        "id": "gt2wEX3Xb1Xu",
        "outputId": "596aeb7c-4291-4b7f-ad98-42e20ed31b4b",
        "colab": {
          "base_uri": "https://localhost:8080/"
        }
      },
      "outputs": [
        {
          "output_type": "stream",
          "name": "stdout",
          "text": [
            "[[14 69 97 95 32 34 45 30]\n",
            " [ 9 77 74 47 20 31 43 31]\n",
            " [17 54 36 44 63 57  6 79]\n",
            " [ 4 76  0 14 84 35 25 22]\n",
            " [19 32 10 91 63 63 24 22]\n",
            " [ 0  1  2  3  4  5  6  7]\n",
            " [13 35 35  2 80 29 84 34]\n",
            " [ 6 25 19 94 64 28  2  9]\n",
            " [ 2 92 93 69 42 66 47  2]\n",
            " [ 8 13 64 44 16 75 52 36]\n",
            " [15 54 59 75 40 76 91 70]\n",
            " [16  3 46 26 46 74 30 85]\n",
            " [10 20 22 95 47 71 56 82]\n",
            " [ 1 26 32 24 44 42 89 51]] \n",
            "--\n",
            "[[11  0 62 62 89 95 99 16]\n",
            " [ 5 26  3 12 92  4 32 84]\n",
            " [12 55 76 21 31 42  0 21]\n",
            " [ 7 11 19 12 24 74  3 55]\n",
            " [18 93 82 71 28 12 45 60]\n",
            " [ 3 36 52 26  8 99 92 90]] \n",
            "--\n",
            "[114 109 117 104 119 100 113 106 102 108 115 116 110 101] \n",
            "--\n",
            "[111 105 112 107 118 103] \n",
            "--\n"
          ]
        }
      ],
      "source": [
        "print (Xtr, \"\\n--\")\n",
        "print (Xts, \"\\n--\")\n",
        "print (ytr, \"\\n--\")\n",
        "print (yts, \"\\n--\")"
      ]
    },
    {
      "cell_type": "code",
      "execution_count": 22,
      "metadata": {
        "id": "3Czh_XHIb1Xv",
        "outputId": "73086217-99c6-4382-aae7-24de06a0e7d6",
        "colab": {
          "base_uri": "https://localhost:8080/"
        }
      },
      "outputs": [
        {
          "output_type": "execute_result",
          "data": {
            "text/plain": [
              "array([[11,  0, 62, 62, 89, 95, 99, 16],\n",
              "       [ 5, 26,  3, 12, 92,  4, 32, 84],\n",
              "       [12, 55, 76, 21, 31, 42,  0, 21],\n",
              "       [ 7, 11, 19, 12, 24, 74,  3, 55],\n",
              "       [18, 93, 82, 71, 28, 12, 45, 60],\n",
              "       [ 3, 36, 52, 26,  8, 99, 92, 90]])"
            ]
          },
          "metadata": {},
          "execution_count": 22
        }
      ],
      "source": [
        "Xts"
      ]
    },
    {
      "cell_type": "code",
      "execution_count": null,
      "metadata": {
        "id": "HPrCIf2Ib1Xv"
      },
      "outputs": [],
      "source": []
    },
    {
      "cell_type": "markdown",
      "metadata": {
        "id": "qyFWwl_Bb1Xv"
      },
      "source": [
        "**submit your code**"
      ]
    },
    {
      "cell_type": "code",
      "execution_count": 23,
      "metadata": {
        "scrolled": true,
        "id": "Gayo_jlwb1Xv",
        "outputId": "0bfdb9bb-16dc-43a2-c9e8-d03482cce824",
        "colab": {
          "base_uri": "https://localhost:8080/",
          "height": 128
        }
      },
      "outputs": [
        {
          "output_type": "display_data",
          "data": {
            "text/plain": [
              "<IPython.core.display.HTML object>"
            ],
            "text/html": [
              "\n",
              "                    <b>task_01 submitted.</b> <b><font color=\"blue\">your grade is 5</font></b> \n",
              "                    <p/><pre>----- grader message -------</pre>testing with 100 random calls<br/><b>correct</b><pre>----------------------------</pre>\n",
              "                    <p/><p/>\n",
              "                    <div style=\"font-size:10px\"><b>SUBMISSION CODE</b> sQOvkZSn2j1WYvQL/luMd97UVzjn4bSMN9gybXUAGxYRU26MoUWhv9SIotkZ9DkBTKVuom5W/6FugHUrRB/hl8OG+A9CqG1tNnmG9Fc8BlzpgtgfpeXZVLNzBnYnW6NhUXGUGBDZF6rUUnQ5i8IFAxJquhiUAkdUSeH3Wsrs3iA=</div>\n",
              "                    "
            ]
          },
          "metadata": {}
        }
      ],
      "source": [
        "student.submit_task(globals(), task_id=\"task_01\");\n"
      ]
    },
    {
      "cell_type": "code",
      "execution_count": null,
      "metadata": {
        "id": "xXNJiwm1b1Xz"
      },
      "outputs": [],
      "source": []
    },
    {
      "cell_type": "markdown",
      "metadata": {
        "id": "1GBMkwc8b1Xz"
      },
      "source": [
        "## Task 2: Fit a model and make predictions"
      ]
    },
    {
      "cell_type": "markdown",
      "metadata": {
        "id": "D1QfZCgib1X5"
      },
      "source": [
        "observe how we create new data from synthetic datasets available in `sklearn`"
      ]
    },
    {
      "cell_type": "code",
      "execution_count": 24,
      "metadata": {
        "id": "mSU_Yy01b1X6",
        "outputId": "2f7dbd39-9c31-479c-94d0-497dbfc5a821",
        "colab": {
          "base_uri": "https://localhost:8080/"
        }
      },
      "outputs": [
        {
          "output_type": "stream",
          "name": "stderr",
          "text": [
            "/content/local/lib/mlutils.py:445: SyntaxWarning: invalid escape sequence '\\m'\n",
            "  time_str = \"fit time  (TRAIN)    %.2f $\\mu$secs\"%(fitting_time*1000)\n"
          ]
        }
      ],
      "source": [
        "from sklearn.datasets import make_moons\n",
        "import matplotlib.pyplot as plt\n",
        "from local.lib import mlutils\n",
        "%matplotlib inline"
      ]
    },
    {
      "cell_type": "code",
      "execution_count": 25,
      "metadata": {
        "id": "i85UrvnLb1X6",
        "outputId": "80097d35-272e-4451-88eb-43e7127a6557",
        "colab": {
          "base_uri": "https://localhost:8080/"
        }
      },
      "outputs": [
        {
          "output_type": "execute_result",
          "data": {
            "text/plain": [
              "((200, 2), (200,))"
            ]
          },
          "metadata": {},
          "execution_count": 25
        }
      ],
      "source": [
        "X, y = make_moons(200, noise=0.2)\n",
        "X.shape, y.shape"
      ]
    },
    {
      "cell_type": "code",
      "execution_count": 26,
      "metadata": {
        "id": "BRr1wRBeb1X6",
        "outputId": "e95942bf-476e-4723-d22d-29ba41bfea56",
        "colab": {
          "base_uri": "https://localhost:8080/",
          "height": 430
        }
      },
      "outputs": [
        {
          "output_type": "display_data",
          "data": {
            "text/plain": [
              "<Figure size 640x480 with 1 Axes>"
            ],
            "image/png": "[encoded data removed]"
          },
          "metadata": {}
        }
      ],
      "source": [
        "mlutils.plot_2Ddata(X,y); plt.grid();"
      ]
    },
    {
      "cell_type": "markdown",
      "metadata": {
        "id": "N05pMFYCb1X6"
      },
      "source": [
        "observe also how we create an algorithm instance and fit a model"
      ]
    },
    {
      "cell_type": "code",
      "execution_count": 27,
      "metadata": {
        "id": "_5_A4jSnb1X6",
        "outputId": "68066061-664a-4bd6-87d1-0df0430a3f4f",
        "colab": {
          "base_uri": "https://localhost:8080/",
          "height": 447
        }
      },
      "outputs": [
        {
          "output_type": "execute_result",
          "data": {
            "text/plain": [
              "(np.float64(0.514775), np.float64(0.485225))"
            ]
          },
          "metadata": {},
          "execution_count": 27
        },
        {
          "output_type": "display_data",
          "data": {
            "text/plain": [
              "<Figure size 640x480 with 1 Axes>"
            ],
            "image/png": "[encoded data removed]"
          },
          "metadata": {}
        }
      ],
      "source": [
        "from sklearn.svm import SVC\n",
        "estimator = SVC(gamma=1)\n",
        "estimator.fit(X,y)\n",
        "mlutils.plot_2Ddata_with_boundary(estimator.predict, X, y)"
      ]
    },
    {
      "cell_type": "markdown",
      "metadata": {
        "id": "QfWa-JFDb1X7"
      },
      "source": [
        "and how we make predictions"
      ]
    },
    {
      "cell_type": "code",
      "execution_count": 28,
      "metadata": {
        "id": "5eL-GumVb1X7",
        "outputId": "0979daa2-932a-42b2-a303-db67b816ff05",
        "colab": {
          "base_uri": "https://localhost:8080/"
        }
      },
      "outputs": [
        {
          "output_type": "stream",
          "name": "stdout",
          "text": [
            "(200,)\n"
          ]
        },
        {
          "output_type": "execute_result",
          "data": {
            "text/plain": [
              "array([0, 1, 1, 0, 0, 1, 1, 0, 0, 0, 1, 0, 1, 0, 1, 1, 1, 0, 0, 1, 0, 0,\n",
              "       1, 0, 0, 1, 1, 0, 1, 1, 1, 1, 0, 0, 0, 0, 1, 0, 1, 1, 1, 0, 0, 1,\n",
              "       1, 0, 0, 0, 0, 1, 0, 1, 1, 0, 1, 1, 1, 0, 0, 1, 1, 0, 0, 1, 0, 1,\n",
              "       1, 1, 1, 1, 0, 1, 1, 0, 1, 1, 1, 0, 1, 0, 0, 0, 0, 0, 1, 0, 1, 1,\n",
              "       1, 1, 0, 0, 0, 1, 1, 1, 1, 0, 0, 0, 1, 1, 0, 1, 0, 1, 0, 1, 0, 1,\n",
              "       1, 1, 0, 0, 1, 1, 0, 0, 0, 1, 0, 1, 1, 1, 0, 1, 0, 0, 1, 1, 0, 1,\n",
              "       0, 1, 1, 1, 0, 1, 0, 1, 1, 0, 1, 0, 0, 0, 1, 0, 0, 0, 1, 0, 0, 1,\n",
              "       0, 0, 0, 0, 0, 0, 1, 1, 0, 0, 0, 0, 0, 1, 0, 0, 0, 0, 0, 1, 1, 0,\n",
              "       0, 0, 1, 0, 1, 1, 0, 0, 0, 1, 1, 0, 0, 1, 1, 1, 1, 0, 1, 0, 1, 1,\n",
              "       1, 1])"
            ]
          },
          "metadata": {},
          "execution_count": 28
        }
      ],
      "source": [
        "preds = estimator.predict(X)\n",
        "print (preds.shape)\n",
        "preds"
      ]
    },
    {
      "cell_type": "markdown",
      "metadata": {
        "id": "oPtP4Tsbb1X7"
      },
      "source": [
        "in this task you have to complete the following function so that:\n",
        "\n",
        "- it makes two non-random partitions of `X` and `y`. One containing the first half of the data and one containing the second part. If the number of elements of `X` is odd, then the second half will contain one more element than the first half.\n",
        "- it fits the model with the first part of the data\n",
        "- it makes predictions on the second half of the data\n",
        "- returns the estimator fitted, and the predictions on the second half of the data."
      ]
    },
    {
      "cell_type": "code",
      "execution_count": 29,
      "metadata": {
        "id": "fLZCTnJsb1X7"
      },
      "outputs": [],
      "source": [
        "import numpy as np\n",
        "from sklearn.tree import DecisionTreeClassifier\n",
        "\n",
        "def fit_and_predict(estimator, X, y):\n",
        "    assert len(X) == len(y), \"X and y must have the same length\"\n",
        "\n",
        "    # Dividir los datos en dos mitades\n",
        "    midpoint = len(X) // 2\n",
        "\n",
        "    # Si la longitud es impar, la segunda mitad tendrá un elemento más\n",
        "    X_train, y_train = X[:midpoint], y[:midpoint]\n",
        "    X_test, y_test = X[midpoint:], y[midpoint:]\n",
        "\n",
        "    # Ajustar el modelo\n",
        "    estimator.fit(X_train, y_train)\n",
        "\n",
        "    # Hacer predicciones sobre la segunda mitad\n",
        "    predictions = estimator.predict(X_test)\n",
        "\n",
        "    return estimator, predictions"
      ]
    },
    {
      "cell_type": "markdown",
      "metadata": {
        "id": "Ue0RIZWVb1X7"
      },
      "source": [
        "check your code. your predictions should be similar to\n",
        "\n",
        "    preds\n",
        "    >> array([0, 0, 0, 0, 1, 0, 1, 1, 1, 0])"
      ]
    },
    {
      "cell_type": "code",
      "execution_count": 30,
      "metadata": {
        "id": "HXNIDIxbb1X8",
        "outputId": "a1c4163c-f789-4ec4-cfd2-a46353db5a44",
        "colab": {
          "base_uri": "https://localhost:8080/"
        }
      },
      "outputs": [
        {
          "output_type": "execute_result",
          "data": {
            "text/plain": [
              "((20, 2), (20,))"
            ]
          },
          "metadata": {},
          "execution_count": 30
        }
      ],
      "source": [
        "X = np.array([[ 0.74799424, -0.5867667 ],\n",
        "       [-0.64457753,  1.25127894],\n",
        "       [ 0.53682593,  0.10931563],\n",
        "       [-0.88825294, -0.06987509],\n",
        "       [ 0.99612638, -0.52295157],\n",
        "       [ 1.20586692,  0.01930477],\n",
        "       [-0.19368482,  0.65121567],\n",
        "       [ 0.1973759 ,  0.82250723],\n",
        "       [ 0.94859234, -0.5457241 ],\n",
        "       [ 1.87967948, -0.22740261],\n",
        "       [ 0.58766146,  0.3982837 ],\n",
        "       [ 0.27731571,  1.14369568],\n",
        "       [-0.67421956,  0.12785382],\n",
        "       [ 0.56957459,  1.05330376],\n",
        "       [ 1.52435938, -0.29864338],\n",
        "       [-0.15973608,  0.21790711],\n",
        "       [ 1.59037406, -0.56875485],\n",
        "       [ 0.43257507, -0.48900315],\n",
        "       [ 1.09440413, -0.73789029],\n",
        "       [-0.32940869,  0.74671384]])\n",
        "y = np.array([1, 0, 1, 0, 1, 0, 0, 0, 1, 1, 0, 0, 0, 0, 1, 1, 1, 1, 1, 0])\n",
        "X.shape, y.shape"
      ]
    },
    {
      "cell_type": "code",
      "execution_count": 31,
      "metadata": {
        "id": "yo4fSZJ0b1X8",
        "outputId": "e8cb90b6-e543-4afd-acd4-ed67402c8002",
        "colab": {
          "base_uri": "https://localhost:8080/"
        }
      },
      "outputs": [
        {
          "output_type": "execute_result",
          "data": {
            "text/plain": [
              "array([0, 0, 0, 0, 1, 0, 1, 1, 1, 0])"
            ]
          },
          "metadata": {},
          "execution_count": 31
        }
      ],
      "source": [
        "from sklearn.linear_model import LogisticRegression\n",
        "estimator = LogisticRegression()\n",
        "estimator, preds = fit_and_predict(estimator, X, y)\n",
        "preds"
      ]
    },
    {
      "cell_type": "code",
      "execution_count": null,
      "metadata": {
        "id": "LS6N2X7tb1X8"
      },
      "outputs": [],
      "source": [
        "\n"
      ]
    },
    {
      "cell_type": "markdown",
      "metadata": {
        "id": "MyhO1C8Eb1X8"
      },
      "source": [
        "**submit your code**"
      ]
    },
    {
      "cell_type": "code",
      "execution_count": 32,
      "metadata": {
        "id": "p1vjFxpwb1X8",
        "outputId": "012dddf6-a32f-4863-d9a1-b6e0d52e23a1",
        "colab": {
          "base_uri": "https://localhost:8080/",
          "height": 128
        }
      },
      "outputs": [
        {
          "output_type": "display_data",
          "data": {
            "text/plain": [
              "<IPython.core.display.HTML object>"
            ],
            "text/html": [
              "\n",
              "                    <b>task_02 submitted.</b> <b><font color=\"blue\">your grade is 5</font></b> \n",
              "                    <p/><pre>----- grader message -------</pre>testing with 100 random calls<br/><b>correct</b><pre>----------------------------</pre>\n",
              "                    <p/><p/>\n",
              "                    <div style=\"font-size:10px\"><b>SUBMISSION CODE</b> 0zHk/U15HDz7N2JjY55dQ8RfNyCg9NTQryGMZ/g3KIANQ3XGPFst8bOJYqhpiXAUL/RcWUYVhbG/+vbHIcegoRVN5jvRmyrGS5knFN2gr+dNKGiLyLc9e5XVEPdrlfZBaaDBbMXE0PkAE3L5k6U7HGpTqIzAZ9Xzu+sBx5kSpAg=</div>\n",
              "                    "
            ]
          },
          "metadata": {}
        }
      ],
      "source": [
        "student.submit_task(globals(), task_id=\"task_02\");\n"
      ]
    },
    {
      "cell_type": "code",
      "execution_count": null,
      "metadata": {
        "id": "M3xvnwDNb1X9"
      },
      "outputs": [],
      "source": []
    },
    {
      "cell_type": "markdown",
      "metadata": {
        "id": "DfIJxxVab1X9"
      },
      "source": [
        "## Task 3: Select data with indices\n",
        "\n",
        "Observe how we can create a vector or matrix of `True/False` (boolean) by applying a condition to any matrix or vector"
      ]
    },
    {
      "cell_type": "code",
      "execution_count": 45,
      "metadata": {
        "id": "83EEOeuUb1X9",
        "outputId": "f1a2b95e-00b0-4d57-bc90-f7294b4a876a",
        "colab": {
          "base_uri": "https://localhost:8080/"
        }
      },
      "outputs": [
        {
          "output_type": "stream",
          "name": "stdout",
          "text": [
            "[7 6 0 8 8 4 0 4 7 1 8 4 1 4 4]\n"
          ]
        }
      ],
      "source": [
        "import numpy as np\n",
        "y = np.random.randint(10, size=15)\n",
        "print (y)"
      ]
    },
    {
      "cell_type": "code",
      "execution_count": 46,
      "metadata": {
        "id": "sUHcfzgob1X9",
        "outputId": "a9bfe181-b364-432c-d52c-166d37b3d5d9",
        "colab": {
          "base_uri": "https://localhost:8080/"
        }
      },
      "outputs": [
        {
          "output_type": "stream",
          "name": "stdout",
          "text": [
            "[False False  True False False  True  True  True False  True False  True\n",
            "  True  True  True]\n"
          ]
        }
      ],
      "source": [
        "y_less_than_5 = y<5\n",
        "print (y_less_than_5)"
      ]
    },
    {
      "cell_type": "markdown",
      "metadata": {
        "id": "syyMRONeb1X9"
      },
      "source": [
        "and how we can select elements of a vector using a boolean vector of the same length"
      ]
    },
    {
      "cell_type": "code",
      "execution_count": 47,
      "metadata": {
        "id": "surOHPFBb1X-",
        "outputId": "51e87d15-b8a5-437d-ff61-cba9bf28ad44",
        "colab": {
          "base_uri": "https://localhost:8080/"
        }
      },
      "outputs": [
        {
          "output_type": "execute_result",
          "data": {
            "text/plain": [
              "array([0, 4, 0, 4, 1, 4, 1, 4, 4])"
            ]
          },
          "metadata": {},
          "execution_count": 47
        }
      ],
      "source": [
        "y[y_less_than_5]"
      ]
    },
    {
      "cell_type": "code",
      "execution_count": 36,
      "metadata": {
        "id": "sg6g8_i3b1X-",
        "outputId": "a2731097-5a61-4018-db31-64063cba8f1a",
        "colab": {
          "base_uri": "https://localhost:8080/"
        }
      },
      "outputs": [
        {
          "output_type": "execute_result",
          "data": {
            "text/plain": [
              "array([4, 1, 2, 1, 2, 4])"
            ]
          },
          "metadata": {},
          "execution_count": 36
        }
      ],
      "source": [
        "y[y<5]"
      ]
    },
    {
      "cell_type": "markdown",
      "metadata": {
        "id": "HwyUOlj0b1X-"
      },
      "source": [
        "python doesn't really care how you construct the vector of booleans to index any other vector or array"
      ]
    },
    {
      "cell_type": "code",
      "execution_count": 37,
      "metadata": {
        "id": "lCUkpTt6b1X-",
        "outputId": "22fe8fb8-fb66-4ed6-ac37-283b520f0422",
        "colab": {
          "base_uri": "https://localhost:8080/"
        }
      },
      "outputs": [
        {
          "output_type": "execute_result",
          "data": {
            "text/plain": [
              "array([ 3,  9, 12,  8,  0, 13,  5, 17, 11,  7, 19, 11, 10,  6,  3])"
            ]
          },
          "metadata": {},
          "execution_count": 37
        }
      ],
      "source": [
        "v = np.random.randint(20, size=15)\n",
        "v"
      ]
    },
    {
      "cell_type": "code",
      "execution_count": 38,
      "metadata": {
        "id": "RQBEmmeXb1X-",
        "outputId": "2dcb1e5d-a146-4cb3-b4eb-08deaed02f02",
        "colab": {
          "base_uri": "https://localhost:8080/"
        }
      },
      "outputs": [
        {
          "output_type": "execute_result",
          "data": {
            "text/plain": [
              "array([ 3,  8, 17, 11,  7, 19])"
            ]
          },
          "metadata": {},
          "execution_count": 38
        }
      ],
      "source": [
        "v[y<5]"
      ]
    },
    {
      "cell_type": "markdown",
      "metadata": {
        "id": "JV4qK2Iub1X_"
      },
      "source": [
        "in this task you will complete the function `select_per_class` such that:\n",
        "\n",
        "- receives an array of data `X` and a vector of labels `y`, of the same length\n",
        "- the labels `y` are binary, they can only have values `0` or `1`\n",
        "- makes two partitions of `X`, one corresponding to the places where y is 0, and another where y is 1\n",
        "- returns the two partitions\n",
        "\n",
        "For instance, for the following X and y\n",
        "\n",
        "    X = np.array([[8, 8, 5, 2, 0, 0],\n",
        "                  [4, 4, 8, 1, 3, 7],\n",
        "                  [4, 5, 3, 6, 9, 6],\n",
        "                  [0, 3, 5, 3, 5, 3],\n",
        "                  [0, 7, 2, 7, 1, 7],\n",
        "                  [5, 7, 7, 1, 8, 5],\n",
        "                  [2, 5, 7, 3, 8, 0],\n",
        "                  [7, 2, 5, 9, 8, 7],\n",
        "                  [1, 6, 6, 1, 6, 0],\n",
        "                  [0, 7, 6, 5, 3, 4]])\n",
        "\n",
        "    y = np.array([0, 0, 0, 0, 1, 1, 0, 0, 1, 1])\n",
        "\n",
        "your function must return the following two matrices:\n",
        "\n",
        "    [[8 8 5 2 0 0]\n",
        "     [4 4 8 1 3 7]\n",
        "     [4 5 3 6 9 6]\n",
        "     [0 3 5 3 5 3]\n",
        "     [2 5 7 3 8 0]\n",
        "     [7 2 5 9 8 7]]\n",
        "     \n",
        "    [[0 7 2 7 1 7]\n",
        "     [5 7 7 1 8 5]\n",
        "     [1 6 6 1 6 0]\n",
        "     [0 7 6 5 3 4]]\n"
      ]
    },
    {
      "cell_type": "code",
      "execution_count": 40,
      "metadata": {
        "id": "Qb_0aULvb1X_"
      },
      "outputs": [],
      "source": [
        "import numpy as np\n",
        "\n",
        "def select_per_class(X, y):\n",
        "    # Seleccionar las filas de X donde y es 0\n",
        "    X1 = X[y == 0]\n",
        "\n",
        "    # Seleccionar las filas de X donde y es 1\n",
        "    X2 = X[y == 1]\n",
        "\n",
        "    return X1, X2"
      ]
    },
    {
      "cell_type": "markdown",
      "metadata": {
        "id": "tC10nzwpb1X_"
      },
      "source": [
        "check manually your code"
      ]
    },
    {
      "cell_type": "code",
      "execution_count": 41,
      "metadata": {
        "id": "eq_2Mxupb1X_"
      },
      "outputs": [],
      "source": [
        "X = np.array([[8, 8, 5, 2, 0, 0],\n",
        "              [4, 4, 8, 1, 3, 7],\n",
        "              [4, 5, 3, 6, 9, 6],\n",
        "              [0, 3, 5, 3, 5, 3],\n",
        "              [0, 7, 2, 7, 1, 7],\n",
        "              [5, 7, 7, 1, 8, 5],\n",
        "              [2, 5, 7, 3, 8, 0],\n",
        "              [7, 2, 5, 9, 8, 7],\n",
        "              [1, 6, 6, 1, 6, 0],\n",
        "              [0, 7, 6, 5, 3, 4]])\n",
        "\n",
        "y = np.array([0, 0, 0, 0, 1, 1, 0, 0, 1, 1])"
      ]
    },
    {
      "cell_type": "code",
      "execution_count": 42,
      "metadata": {
        "id": "xh_5re7cb1YA",
        "outputId": "21ee867a-395c-405e-8679-92048241936f",
        "colab": {
          "base_uri": "https://localhost:8080/"
        }
      },
      "outputs": [
        {
          "output_type": "stream",
          "name": "stdout",
          "text": [
            "[[8 8 5 2 0 0]\n",
            " [4 4 8 1 3 7]\n",
            " [4 5 3 6 9 6]\n",
            " [0 3 5 3 5 3]\n",
            " [2 5 7 3 8 0]\n",
            " [7 2 5 9 8 7]]\n",
            "[[0 7 2 7 1 7]\n",
            " [5 7 7 1 8 5]\n",
            " [1 6 6 1 6 0]\n",
            " [0 7 6 5 3 4]]\n"
          ]
        }
      ],
      "source": [
        "a,b = select_per_class(X, y)\n",
        "print (a)\n",
        "print (b)"
      ]
    },
    {
      "cell_type": "code",
      "execution_count": null,
      "metadata": {
        "id": "Ijirf6nSb1YA"
      },
      "outputs": [],
      "source": []
    },
    {
      "cell_type": "markdown",
      "metadata": {
        "id": "TGZQCsp5b1YA"
      },
      "source": [
        "**submit your code**"
      ]
    },
    {
      "cell_type": "code",
      "execution_count": 48,
      "metadata": {
        "scrolled": true,
        "id": "amVBvM42b1YA",
        "outputId": "ae04a5f2-e323-458d-ef95-0cd559795d93",
        "colab": {
          "base_uri": "https://localhost:8080/",
          "height": 128
        }
      },
      "outputs": [
        {
          "output_type": "display_data",
          "data": {
            "text/plain": [
              "<IPython.core.display.HTML object>"
            ],
            "text/html": [
              "\n",
              "                    <b>task_03 submitted.</b> <b><font color=\"blue\">your grade is 5</font></b> \n",
              "                    <p/><pre>----- grader message -------</pre>testing with 100 random calls<br/><b>correct</b><pre>----------------------------</pre>\n",
              "                    <p/><p/>\n",
              "                    <div style=\"font-size:10px\"><b>SUBMISSION CODE</b> UyeK7c1wsL4XEPmebkPP5dfYBJ9EPyYLE+kz5hRo2vldUDjWWbSUJmTZfqImkGm8vB1SgRZCDVLosHd3aZP6lDZP1xcfEcw4BbNjF2dXQWHIR1lu/BBQXk+kxWpyzk1fExiM56SgAY+4FVWDnxXpwRvhDVFSGJ5UHPZt/3f4Ngs=</div>\n",
              "                    "
            ]
          },
          "metadata": {}
        }
      ],
      "source": [
        "student.submit_task(globals(), task_id=\"task_03\");\n"
      ]
    },
    {
      "cell_type": "code",
      "execution_count": null,
      "metadata": {
        "id": "f9A8IJ2Lb1YA"
      },
      "outputs": [],
      "source": []
    },
    {
      "cell_type": "markdown",
      "metadata": {
        "id": "CLNCoayQb1YA"
      },
      "source": [
        "## Task 4: Measure accuracy\n",
        "\n",
        "complete the following function such that:\n",
        "\n",
        "- it receives to binary vectors (composed of 0's and 1's) of the same length\n",
        "- returns the percentage of elements that are the same in both vectors\n",
        "\n",
        "recall that\n",
        "\n",
        "- if `a` and `b` are vectors of the same length a==b   returns a vector of booleans in which positions in True signal that elements in those position are the same\n",
        "- if `k` is a vector of booleans, `sum(k)` returns the number of `True` elements.\n",
        "\n",
        "\n",
        "for the following two vectors you should get 0.375\n",
        "\n",
        "    a = np.array([1,0,0,0,1,1,0,0])\n",
        "    b = np.array([1,1,1,1,0,1,0,1])\n",
        "    accuracy(a, b)\n",
        "    >>> 0.375\n"
      ]
    },
    {
      "cell_type": "code",
      "execution_count": 49,
      "metadata": {
        "id": "UKAbK5nGb1YB"
      },
      "outputs": [],
      "source": [
        "import numpy as np\n",
        "\n",
        "def accuracy(y_true, y_pred):\n",
        "    # Verificar que los vectores tengan la misma longitud\n",
        "    assert len(y_true) == len(y_pred), \"Los vectores deben tener la misma longitud\"\n",
        "\n",
        "    # Comparar los vectores y contar cuántos son iguales\n",
        "    matches = y_true == y_pred  # Devuelve un vector booleano\n",
        "    correct_count = np.sum(matches)  # Cuenta cuántos son True\n",
        "\n",
        "    # Calcular la precisión como un porcentaje\n",
        "    result = correct_count / len(y_true)  # Dividir por la longitud del vector\n",
        "\n",
        "    return result"
      ]
    },
    {
      "cell_type": "code",
      "execution_count": 50,
      "metadata": {
        "id": "SCB_ovtCb1YB",
        "outputId": "acbabbde-7209-43fe-a9dc-768ef38cbb5a",
        "colab": {
          "base_uri": "https://localhost:8080/"
        }
      },
      "outputs": [
        {
          "output_type": "execute_result",
          "data": {
            "text/plain": [
              "np.float64(0.375)"
            ]
          },
          "metadata": {},
          "execution_count": 50
        }
      ],
      "source": [
        "a = np.array([1,0,0,0,1,1,0,0])\n",
        "b = np.array([1,1,1,1,0,1,0,1])\n",
        "accuracy(a,b)"
      ]
    },
    {
      "cell_type": "code",
      "execution_count": null,
      "metadata": {
        "id": "dywW-GE9b1YB"
      },
      "outputs": [],
      "source": []
    },
    {
      "cell_type": "code",
      "execution_count": null,
      "metadata": {
        "id": "0HTGS9bkb1YB"
      },
      "outputs": [],
      "source": []
    },
    {
      "cell_type": "markdown",
      "metadata": {
        "id": "Q6eWEp-Ab1YB"
      },
      "source": [
        "**submit your code**"
      ]
    },
    {
      "cell_type": "code",
      "execution_count": 51,
      "metadata": {
        "scrolled": false,
        "id": "VOtx91oBb1YB",
        "outputId": "29181202-4060-4775-82d1-699793c8df21",
        "colab": {
          "base_uri": "https://localhost:8080/",
          "height": 128
        }
      },
      "outputs": [
        {
          "output_type": "display_data",
          "data": {
            "text/plain": [
              "<IPython.core.display.HTML object>"
            ],
            "text/html": [
              "\n",
              "                    <b>task_04 submitted.</b> <b><font color=\"blue\">your grade is 5</font></b> \n",
              "                    <p/><pre>----- grader message -------</pre>testing with 100 random calls<br/><b>correct</b><pre>----------------------------</pre>\n",
              "                    <p/><p/>\n",
              "                    <div style=\"font-size:10px\"><b>SUBMISSION CODE</b> KZQxj6ISG7kXEye3IF1d+ghk4cXCB9onCE9bZmO7M8LFqijUc+pM9dfkuZdqZqapKqPRBfuZgUWnkW2/fY34BnxncIFYeYBeLBeNhtjoBpFpgbyFBpH9C6nKVLSQFb3FoZGCt//kZi74urCxSyEJSEchF4YVBPZMKjs3POEpPQw=</div>\n",
              "                    "
            ]
          },
          "metadata": {}
        }
      ],
      "source": [
        "student.submit_task(globals(), task_id=\"task_04\");\n"
      ]
    },
    {
      "cell_type": "code",
      "execution_count": null,
      "metadata": {
        "id": "zZJdx-GSb1YC"
      },
      "outputs": [],
      "source": []
    },
    {
      "cell_type": "markdown",
      "metadata": {
        "id": "pLWO0kMpb1YC"
      },
      "source": [
        "## Task 5: Random split, fit and predict\n",
        "\n",
        "complete the following function so that:\n",
        "\n",
        "- fits the estimator with a random sample of size `train_pct` of the data `X` and binary labels `y`. You can use the `split_data` function developed previously\n",
        "- makes predictions on the test part of the data\n",
        "- measures accuracy of those predictions. you may use the function created previously\n",
        "- returns the estimator fitted, the test part of `X` and `y`, and the accuracy measured\n",
        "\n",
        "\n",
        "the execution below should return something with the following structure (the actual numbers will change)\n",
        "\n",
        "\n",
        "    (LogisticRegression(C=1.0, class_weight=None, dual=False, fit_intercept=True,\n",
        "                        intercept_scaling=1, l1_ratio=None, max_iter=100,\n",
        "                        multi_class='warn', n_jobs=None, penalty='l2',\n",
        "                        random_state=None, solver='lbfgs', tol=0.0001, verbose=0,\n",
        "                        warm_start=False), array([[-0.76329684,  0.2572069 ],\n",
        "            [ 1.02356829,  0.37629873],\n",
        "            [ 0.32099415,  0.82244488],\n",
        "            [ 1.08858315, -0.61299904],\n",
        "            [ 0.58470767,  0.58510559],\n",
        "            [ 1.60827644, -0.15477173],\n",
        "            [ 1.53121784,  0.78121504],\n",
        "            [-0.42734156,  0.87585237],\n",
        "            [-0.36368682,  0.72152586],\n",
        "            [ 1.05312619,  0.19835526]]), array([0, 0, 1, 1, 0, 1, 1, 0, 0, 0]), 0.6)"
      ]
    },
    {
      "cell_type": "code",
      "execution_count": 53,
      "metadata": {
        "id": "WLeZmCY7b1YC",
        "outputId": "8f62da45-2645-4663-e227-5d774d32df00",
        "colab": {
          "base_uri": "https://localhost:8080/",
          "height": 106
        }
      },
      "outputs": [
        {
          "output_type": "error",
          "ename": "IndentationError",
          "evalue": "expected an indented block after function definition on line 3 (ipython-input-2890407184.py, line 6)",
          "traceback": [
            "\u001b[0;36m  File \u001b[0;32m\"/tmp/ipython-input-2890407184.py\"\u001b[0;36m, line \u001b[0;32m6\u001b[0m\n\u001b[0;31m    def accuracy(y_true, y_pred):\u001b[0m\n\u001b[0m    ^\u001b[0m\n\u001b[0;31mIndentationError\u001b[0m\u001b[0;31m:\u001b[0m expected an indented block after function definition on line 3\n"
          ]
        }
      ],
      "source": [
        "\n",
        "\n",
        "def split_fit_predict(estimator, X, y, train_pct):\n",
        "\n",
        "    def split_data(X, y, pct):\n",
        "        # your code here\n",
        "\n",
        "    def accuracy(y_true, y_pred):\n",
        "        # your code here\n",
        "\n",
        "    Xtr, Xts, ytr, yts = ...\n",
        "    ... fit the estimator ....\n",
        "    preds_ts = ... obtain predictions ...\n",
        "    return estimator, Xts, yts, accuracy(yts, preds_ts)\n",
        "\n",
        ""
      ]
    },
    {
      "cell_type": "code",
      "execution_count": 54,
      "metadata": {
        "id": "T_tdq6Xrb1YC",
        "outputId": "0981adb8-88fd-4674-86ee-76f4bc9afd58",
        "colab": {
          "base_uri": "https://localhost:8080/"
        }
      },
      "outputs": [
        {
          "output_type": "stream",
          "name": "stdout",
          "text": [
            "(LogisticRegression(), array([[-0.92770746,  0.17712226],\n",
            "       [ 0.85036311, -0.45861136],\n",
            "       [-0.06568304,  0.22698432],\n",
            "       [-1.10027347,  0.00851229],\n",
            "       [ 0.771668  , -0.54370581],\n",
            "       [ 1.33408304, -0.07129127],\n",
            "       [-0.48743493,  1.07643642],\n",
            "       [-0.47805275,  1.00214473],\n",
            "       [ 1.65577662,  0.08536538],\n",
            "       [ 0.6217034 ,  0.63445817]]), array([0, 1, 1, 0, 1, 1, 0, 0, 1, 0]), np.float64(0.9))\n"
          ]
        }
      ],
      "source": [
        "import numpy as np\n",
        "from sklearn.linear_model import LogisticRegression\n",
        "from sklearn.datasets import make_moons\n",
        "\n",
        "def split_fit_predict(estimator, X, y, train_pct):\n",
        "    # Función para dividir los datos\n",
        "    def split_data(X, y, pct):\n",
        "        total_samples = len(y)\n",
        "        train_size = int(total_samples * pct)\n",
        "        indices = np.random.permutation(total_samples)\n",
        "        train_indices = indices[:train_size]\n",
        "        test_indices = indices[train_size:]\n",
        "        return X[train_indices], X[test_indices], y[train_indices], y[test_indices]\n",
        "\n",
        "    # Función para calcular la precisión\n",
        "    def accuracy(y_true, y_pred):\n",
        "        matches = y_true == y_pred\n",
        "        correct_count = np.sum(matches)\n",
        "        result = correct_count / len(y_true)\n",
        "        return result\n",
        "\n",
        "    # Dividir los datos\n",
        "    Xtr, Xts, ytr, yts = split_data(X, y, train_pct)\n",
        "\n",
        "    # Ajustar el estimador\n",
        "    estimator.fit(Xtr, ytr)\n",
        "\n",
        "    # Realizar predicciones sobre el conjunto de prueba\n",
        "    preds_ts = estimator.predict(Xts)\n",
        "\n",
        "    # Calcular la precisión\n",
        "    return estimator, Xts, yts, accuracy(yts, preds_ts)\n",
        "\n",
        "# Ejemplo de uso\n",
        "X, y = make_moons(100, noise=0.2)\n",
        "estimator = LogisticRegression(solver=\"lbfgs\")\n",
        "result = split_fit_predict(estimator, X, y, train_pct=0.9)\n",
        "\n",
        "# Mostrar el resultado\n",
        "print(result)\n"
      ]
    },
    {
      "cell_type": "code",
      "execution_count": null,
      "metadata": {
        "id": "kbQp_1L0b1YC"
      },
      "outputs": [],
      "source": []
    },
    {
      "cell_type": "code",
      "execution_count": null,
      "metadata": {
        "id": "zKzLdXGhb1YD"
      },
      "outputs": [],
      "source": []
    },
    {
      "cell_type": "markdown",
      "metadata": {
        "id": "1_8DISS4b1YD"
      },
      "source": [
        "**submit your code**"
      ]
    },
    {
      "cell_type": "code",
      "execution_count": 55,
      "metadata": {
        "scrolled": false,
        "id": "_Qcvfrc9b1YD",
        "outputId": "d6decf1b-f97a-4876-aee8-ee90bae93f81",
        "colab": {
          "base_uri": "https://localhost:8080/",
          "height": 128
        }
      },
      "outputs": [
        {
          "output_type": "display_data",
          "data": {
            "text/plain": [
              "<IPython.core.display.HTML object>"
            ],
            "text/html": [
              "\n",
              "                    <b>task_05 submitted.</b> <b><font color=\"blue\">your grade is 5</font></b> \n",
              "                    <p/><pre>----- grader message -------</pre>testing with 100 random calls<br/><b>correct</b><pre>----------------------------</pre>\n",
              "                    <p/><p/>\n",
              "                    <div style=\"font-size:10px\"><b>SUBMISSION CODE</b> LSrGDMFeeVwLMG40as/KTVeLL/huX9NrJtb+XIAGfjECCBCabWgxt3YFLj7+4G3F3j6Fgn+gClsQUO/eOD4Ryajop/gfGowBWTgi7Pg87J8R50YQzjnLLCn4u6mfVQnWHzKoyD4uCmvoqj8s4UICyYJZiRX95cH2WmpnTaSHI/4=</div>\n",
              "                    "
            ]
          },
          "metadata": {}
        }
      ],
      "source": [
        "student.submit_task(globals(), task_id=\"task_05\");\n"
      ]
    },
    {
      "cell_type": "code",
      "execution_count": null,
      "metadata": {
        "id": "C3RmNkX5b1YD"
      },
      "outputs": [],
      "source": []
    }
  ],
  "metadata": {
    "kernelspec": {
      "display_name": "Python 3",
      "language": "python",
      "name": "python3"
    },
    "language_info": {
      "codemirror_mode": {
        "name": "ipython",
        "version": 3
      },
      "file_extension": ".py",
      "mimetype": "text/x-python",
      "name": "python",
      "nbconvert_exporter": "python",
      "pygments_lexer": "ipython3",
      "version": "3.7.3"
    },
    "colab": {
      "provenance": []
    },
    "widgets": {
      "application/vnd.jupyter.widget-state+json": {
        "592b43a11a864862b8eebb04496e3e17": {
          "model_module": "@jupyter-widgets/controls",
          "model_name": "HBoxModel",
          "model_module_version": "1.5.0",
          "state": {
            "_dom_classes": [],
            "_model_module": "@jupyter-widgets/controls",
            "_model_module_version": "1.5.0",
            "_model_name": "HBoxModel",
            "_view_count": null,
            "_view_module": "@jupyter-widgets/controls",
            "_view_module_version": "1.5.0",
            "_view_name": "HBoxView",
            "box_style": "",
            "children": [
              "IPY_MODEL_bdc900d973414ee4ae1aa3bdc6eae6e8",
              "IPY_MODEL_019b2df246a1413fa9569821a76ef26d",
              "IPY_MODEL_06b7d29109744178b7893461acc3c26b",
              "IPY_MODEL_7dbdcafd063246dea9e55418dae69a79"
            ],
            "layout": "IPY_MODEL_4e42683f68ab4ed39cb4f7ac2beeaad7"
          }
        },
        "bdc900d973414ee4ae1aa3bdc6eae6e8": {
          "model_module": "@jupyter-widgets/controls",
          "model_name": "VBoxModel",
          "model_module_version": "1.5.0",
          "state": {
            "_dom_classes": [],
            "_model_module": "@jupyter-widgets/controls",
            "_model_module_version": "1.5.0",
            "_model_name": "VBoxModel",
            "_view_count": null,
            "_view_module": "@jupyter-widgets/controls",
            "_view_module_version": "1.5.0",
            "_view_name": "VBoxView",
            "box_style": "",
            "children": [
              "IPY_MODEL_1e23919db9a8412cb6ebc44cc5461488",
              "IPY_MODEL_7e54c04761a04d05b687fb839c0d9439"
            ],
            "layout": "IPY_MODEL_8baa8ae30cb1415d88be05c776ef3cda"
          }
        },
        "019b2df246a1413fa9569821a76ef26d": {
          "model_module": "@jupyter-widgets/controls",
          "model_name": "ButtonModel",
          "model_module_version": "1.5.0",
          "state": {
            "_dom_classes": [
              "login_button"
            ],
            "_model_module": "@jupyter-widgets/controls",
            "_model_module_version": "1.5.0",
            "_model_name": "ButtonModel",
            "_view_count": null,
            "_view_module": "@jupyter-widgets/controls",
            "_view_module_version": "1.5.0",
            "_view_name": "ButtonView",
            "button_style": "",
            "description": "Login with email",
            "disabled": false,
            "icon": "",
            "layout": "IPY_MODEL_65748569d52d44e4b49eb168bd62ce96",
            "style": "IPY_MODEL_4d59e1135f7e47eab4fa1b261a344ad9",
            "tooltip": ""
          }
        },
        "06b7d29109744178b7893461acc3c26b": {
          "model_module": "@jupyter-widgets/controls",
          "model_name": "HTMLModel",
          "model_module_version": "1.5.0",
          "state": {
            "_dom_classes": [],
            "_model_module": "@jupyter-widgets/controls",
            "_model_module_version": "1.5.0",
            "_model_name": "HTMLModel",
            "_view_count": null,
            "_view_module": "@jupyter-widgets/controls",
            "_view_module_version": "1.5.0",
            "_view_name": "HTMLView",
            "description": "",
            "description_tooltip": null,
            "layout": "IPY_MODEL_1bb619ae484b481bbc8f6925e3e594d5",
            "placeholder": "​",
            "style": "IPY_MODEL_1f3e9c703bf14c29a0d84b9274ec7830",
            "value": "<center><big>or</big></center>"
          }
        },
        "7dbdcafd063246dea9e55418dae69a79": {
          "model_module": "@jupyter-widgets/controls",
          "model_name": "ButtonModel",
          "model_module_version": "1.5.0",
          "state": {
            "_dom_classes": [
              "google_button"
            ],
            "_model_module": "@jupyter-widgets/controls",
            "_model_module_version": "1.5.0",
            "_model_name": "ButtonModel",
            "_view_count": null,
            "_view_module": "@jupyter-widgets/controls",
            "_view_module_version": "1.5.0",
            "_view_name": "ButtonView",
            "button_style": "",
            "description": "Login with Google",
            "disabled": false,
            "icon": "",
            "layout": "IPY_MODEL_8059ba92d14542be91f74e92efa3a598",
            "style": "IPY_MODEL_f23a256169aa4cd98f46cc42e7ce3aca",
            "tooltip": ""
          }
        },
        "4e42683f68ab4ed39cb4f7ac2beeaad7": {
          "model_module": "@jupyter-widgets/base",
          "model_name": "LayoutModel",
          "model_module_version": "1.2.0",
          "state": {
            "_model_module": "@jupyter-widgets/base",
            "_model_module_version": "1.2.0",
            "_model_name": "LayoutModel",
            "_view_count": null,
            "_view_module": "@jupyter-widgets/base",
            "_view_module_version": "1.2.0",
            "_view_name": "LayoutView",
            "align_content": null,
            "align_items": null,
            "align_self": null,
            "border": null,
            "bottom": null,
            "display": null,
            "flex": null,
            "flex_flow": null,
            "grid_area": null,
            "grid_auto_columns": null,
            "grid_auto_flow": null,
            "grid_auto_rows": null,
            "grid_column": null,
            "grid_gap": null,
            "grid_row": null,
            "grid_template_areas": null,
            "grid_template_columns": null,
            "grid_template_rows": null,
            "height": null,
            "justify_content": null,
            "justify_items": null,
            "left": null,
            "margin": null,
            "max_height": null,
            "max_width": null,
            "min_height": null,
            "min_width": null,
            "object_fit": null,
            "object_position": null,
            "order": null,
            "overflow": null,
            "overflow_x": null,
            "overflow_y": null,
            "padding": null,
            "right": null,
            "top": null,
            "visibility": null,
            "width": null
          }
        },
        "1e23919db9a8412cb6ebc44cc5461488": {
          "model_module": "@jupyter-widgets/controls",
          "model_name": "TextModel",
          "model_module_version": "1.5.0",
          "state": {
            "_dom_classes": [],
            "_model_module": "@jupyter-widgets/controls",
            "_model_module_version": "1.5.0",
            "_model_name": "TextModel",
            "_view_count": null,
            "_view_module": "@jupyter-widgets/controls",
            "_view_module_version": "1.5.0",
            "_view_name": "TextView",
            "continuous_update": true,
            "description": "email",
            "description_tooltip": null,
            "disabled": false,
            "layout": "IPY_MODEL_a2a43f1215fe4c8ea31b9b010e587015",
            "placeholder": "​",
            "style": "IPY_MODEL_c6af48c56a2c4083b95ac8c86a328328",
            "value": ""
          }
        },
        "7e54c04761a04d05b687fb839c0d9439": {
          "model_module": "@jupyter-widgets/controls",
          "model_name": "PasswordModel",
          "model_module_version": "1.5.0",
          "state": {
            "_dom_classes": [],
            "_model_module": "@jupyter-widgets/controls",
            "_model_module_version": "1.5.0",
            "_model_name": "PasswordModel",
            "_view_count": null,
            "_view_module": "@jupyter-widgets/controls",
            "_view_module_version": "1.5.0",
            "_view_name": "PasswordView",
            "continuous_update": true,
            "description": "password",
            "description_tooltip": null,
            "disabled": false,
            "layout": "IPY_MODEL_34fe744d80fd4e6c8907bfdd3809e081",
            "placeholder": "​",
            "style": "IPY_MODEL_4c721ec1b6304db8a2e4d51ffe00343e",
            "value": ""
          }
        },
        "8baa8ae30cb1415d88be05c776ef3cda": {
          "model_module": "@jupyter-widgets/base",
          "model_name": "LayoutModel",
          "model_module_version": "1.2.0",
          "state": {
            "_model_module": "@jupyter-widgets/base",
            "_model_module_version": "1.2.0",
            "_model_name": "LayoutModel",
            "_view_count": null,
            "_view_module": "@jupyter-widgets/base",
            "_view_module_version": "1.2.0",
            "_view_name": "LayoutView",
            "align_content": null,
            "align_items": null,
            "align_self": null,
            "border": null,
            "bottom": null,
            "display": null,
            "flex": null,
            "flex_flow": null,
            "grid_area": null,
            "grid_auto_columns": null,
            "grid_auto_flow": null,
            "grid_auto_rows": null,
            "grid_column": null,
            "grid_gap": null,
            "grid_row": null,
            "grid_template_areas": null,
            "grid_template_columns": null,
            "grid_template_rows": null,
            "height": null,
            "justify_content": null,
            "justify_items": null,
            "left": null,
            "margin": null,
            "max_height": null,
            "max_width": null,
            "min_height": null,
            "min_width": null,
            "object_fit": null,
            "object_position": null,
            "order": null,
            "overflow": null,
            "overflow_x": null,
            "overflow_y": null,
            "padding": null,
            "right": null,
            "top": null,
            "visibility": null,
            "width": null
          }
        },
        "65748569d52d44e4b49eb168bd62ce96": {
          "model_module": "@jupyter-widgets/base",
          "model_name": "LayoutModel",
          "model_module_version": "1.2.0",
          "state": {
            "_model_module": "@jupyter-widgets/base",
            "_model_module_version": "1.2.0",
            "_model_name": "LayoutModel",
            "_view_count": null,
            "_view_module": "@jupyter-widgets/base",
            "_view_module_version": "1.2.0",
            "_view_name": "LayoutView",
            "align_content": null,
            "align_items": null,
            "align_self": null,
            "border": null,
            "bottom": null,
            "display": null,
            "flex": null,
            "flex_flow": null,
            "grid_area": null,
            "grid_auto_columns": null,
            "grid_auto_flow": null,
            "grid_auto_rows": null,
            "grid_column": null,
            "grid_gap": null,
            "grid_row": null,
            "grid_template_areas": null,
            "grid_template_columns": null,
            "grid_template_rows": null,
            "height": "53px",
            "justify_content": null,
            "justify_items": null,
            "left": null,
            "margin": null,
            "max_height": null,
            "max_width": null,
            "min_height": null,
            "min_width": null,
            "object_fit": null,
            "object_position": null,
            "order": null,
            "overflow": null,
            "overflow_x": null,
            "overflow_y": null,
            "padding": null,
            "right": null,
            "top": null,
            "visibility": null,
            "width": "150px"
          }
        },
        "4d59e1135f7e47eab4fa1b261a344ad9": {
          "model_module": "@jupyter-widgets/controls",
          "model_name": "ButtonStyleModel",
          "model_module_version": "1.5.0",
          "state": {
            "_model_module": "@jupyter-widgets/controls",
            "_model_module_version": "1.5.0",
            "_model_name": "ButtonStyleModel",
            "_view_count": null,
            "_view_module": "@jupyter-widgets/base",
            "_view_module_version": "1.2.0",
            "_view_name": "StyleView",
            "button_color": null,
            "font_weight": ""
          }
        },
        "1bb619ae484b481bbc8f6925e3e594d5": {
          "model_module": "@jupyter-widgets/base",
          "model_name": "LayoutModel",
          "model_module_version": "1.2.0",
          "state": {
            "_model_module": "@jupyter-widgets/base",
            "_model_module_version": "1.2.0",
            "_model_name": "LayoutModel",
            "_view_count": null,
            "_view_module": "@jupyter-widgets/base",
            "_view_module_version": "1.2.0",
            "_view_name": "LayoutView",
            "align_content": null,
            "align_items": null,
            "align_self": null,
            "border": null,
            "bottom": null,
            "display": null,
            "flex": null,
            "flex_flow": null,
            "grid_area": null,
            "grid_auto_columns": null,
            "grid_auto_flow": null,
            "grid_auto_rows": null,
            "grid_column": null,
            "grid_gap": null,
            "grid_row": null,
            "grid_template_areas": null,
            "grid_template_columns": null,
            "grid_template_rows": null,
            "height": null,
            "justify_content": null,
            "justify_items": null,
            "left": null,
            "margin": null,
            "max_height": null,
            "max_width": null,
            "min_height": null,
            "min_width": null,
            "object_fit": null,
            "object_position": null,
            "order": null,
            "overflow": null,
            "overflow_x": null,
            "overflow_y": null,
            "padding": null,
            "right": null,
            "top": null,
            "visibility": null,
            "width": "100px"
          }
        },
        "1f3e9c703bf14c29a0d84b9274ec7830": {
          "model_module": "@jupyter-widgets/controls",
          "model_name": "DescriptionStyleModel",
          "model_module_version": "1.5.0",
          "state": {
            "_model_module": "@jupyter-widgets/controls",
            "_model_module_version": "1.5.0",
            "_model_name": "DescriptionStyleModel",
            "_view_count": null,
            "_view_module": "@jupyter-widgets/base",
            "_view_module_version": "1.2.0",
            "_view_name": "StyleView",
            "description_width": ""
          }
        },
        "8059ba92d14542be91f74e92efa3a598": {
          "model_module": "@jupyter-widgets/base",
          "model_name": "LayoutModel",
          "model_module_version": "1.2.0",
          "state": {
            "_model_module": "@jupyter-widgets/base",
            "_model_module_version": "1.2.0",
            "_model_name": "LayoutModel",
            "_view_count": null,
            "_view_module": "@jupyter-widgets/base",
            "_view_module_version": "1.2.0",
            "_view_name": "LayoutView",
            "align_content": null,
            "align_items": null,
            "align_self": null,
            "border": null,
            "bottom": null,
            "display": null,
            "flex": null,
            "flex_flow": null,
            "grid_area": null,
            "grid_auto_columns": null,
            "grid_auto_flow": null,
            "grid_auto_rows": null,
            "grid_column": null,
            "grid_gap": null,
            "grid_row": null,
            "grid_template_areas": null,
            "grid_template_columns": null,
            "grid_template_rows": null,
            "height": "53px",
            "justify_content": null,
            "justify_items": null,
            "left": null,
            "margin": null,
            "max_height": null,
            "max_width": null,
            "min_height": null,
            "min_width": null,
            "object_fit": null,
            "object_position": null,
            "order": null,
            "overflow": null,
            "overflow_x": null,
            "overflow_y": null,
            "padding": null,
            "right": null,
            "top": null,
            "visibility": null,
            "width": "200px"
          }
        },
        "f23a256169aa4cd98f46cc42e7ce3aca": {
          "model_module": "@jupyter-widgets/controls",
          "model_name": "ButtonStyleModel",
          "model_module_version": "1.5.0",
          "state": {
            "_model_module": "@jupyter-widgets/controls",
            "_model_module_version": "1.5.0",
            "_model_name": "ButtonStyleModel",
            "_view_count": null,
            "_view_module": "@jupyter-widgets/base",
            "_view_module_version": "1.2.0",
            "_view_name": "StyleView",
            "button_color": null,
            "font_weight": ""
          }
        },
        "a2a43f1215fe4c8ea31b9b010e587015": {
          "model_module": "@jupyter-widgets/base",
          "model_name": "LayoutModel",
          "model_module_version": "1.2.0",
          "state": {
            "_model_module": "@jupyter-widgets/base",
            "_model_module_version": "1.2.0",
            "_model_name": "LayoutModel",
            "_view_count": null,
            "_view_module": "@jupyter-widgets/base",
            "_view_module_version": "1.2.0",
            "_view_name": "LayoutView",
            "align_content": null,
            "align_items": null,
            "align_self": null,
            "border": null,
            "bottom": null,
            "display": null,
            "flex": null,
            "flex_flow": null,
            "grid_area": null,
            "grid_auto_columns": null,
            "grid_auto_flow": null,
            "grid_auto_rows": null,
            "grid_column": null,
            "grid_gap": null,
            "grid_row": null,
            "grid_template_areas": null,
            "grid_template_columns": null,
            "grid_template_rows": null,
            "height": "25px",
            "justify_content": null,
            "justify_items": null,
            "left": null,
            "margin": null,
            "max_height": null,
            "max_width": null,
            "min_height": null,
            "min_width": null,
            "object_fit": null,
            "object_position": null,
            "order": null,
            "overflow": null,
            "overflow_x": null,
            "overflow_y": null,
            "padding": null,
            "right": null,
            "top": null,
            "visibility": null,
            "width": "300px"
          }
        },
        "c6af48c56a2c4083b95ac8c86a328328": {
          "model_module": "@jupyter-widgets/controls",
          "model_name": "DescriptionStyleModel",
          "model_module_version": "1.5.0",
          "state": {
            "_model_module": "@jupyter-widgets/controls",
            "_model_module_version": "1.5.0",
            "_model_name": "DescriptionStyleModel",
            "_view_count": null,
            "_view_module": "@jupyter-widgets/base",
            "_view_module_version": "1.2.0",
            "_view_name": "StyleView",
            "description_width": ""
          }
        },
        "34fe744d80fd4e6c8907bfdd3809e081": {
          "model_module": "@jupyter-widgets/base",
          "model_name": "LayoutModel",
          "model_module_version": "1.2.0",
          "state": {
            "_model_module": "@jupyter-widgets/base",
            "_model_module_version": "1.2.0",
            "_model_name": "LayoutModel",
            "_view_count": null,
            "_view_module": "@jupyter-widgets/base",
            "_view_module_version": "1.2.0",
            "_view_name": "LayoutView",
            "align_content": null,
            "align_items": null,
            "align_self": null,
            "border": null,
            "bottom": null,
            "display": null,
            "flex": null,
            "flex_flow": null,
            "grid_area": null,
            "grid_auto_columns": null,
            "grid_auto_flow": null,
            "grid_auto_rows": null,
            "grid_column": null,
            "grid_gap": null,
            "grid_row": null,
            "grid_template_areas": null,
            "grid_template_columns": null,
            "grid_template_rows": null,
            "height": "24px",
            "justify_content": null,
            "justify_items": null,
            "left": null,
            "margin": null,
            "max_height": null,
            "max_width": null,
            "min_height": null,
            "min_width": null,
            "object_fit": null,
            "object_position": null,
            "order": null,
            "overflow": null,
            "overflow_x": null,
            "overflow_y": null,
            "padding": null,
            "right": null,
            "top": null,
            "visibility": null,
            "width": "300px"
          }
        },
        "4c721ec1b6304db8a2e4d51ffe00343e": {
          "model_module": "@jupyter-widgets/controls",
          "model_name": "DescriptionStyleModel",
          "model_module_version": "1.5.0",
          "state": {
            "_model_module": "@jupyter-widgets/controls",
            "_model_module_version": "1.5.0",
            "_model_name": "DescriptionStyleModel",
            "_view_count": null,
            "_view_module": "@jupyter-widgets/base",
            "_view_module_version": "1.2.0",
            "_view_name": "StyleView",
            "description_width": ""
          }
        }
      }
    }
  },
  "nbformat": 4,
  "nbformat_minor": 0
}